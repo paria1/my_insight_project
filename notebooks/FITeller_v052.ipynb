{
 "cells": [
  {
   "cell_type": "markdown",
   "metadata": {},
   "source": [
    "# Data information"
   ]
  },
  {
   "cell_type": "markdown",
   "metadata": {},
   "source": [
    "\n",
    "\n",
    "The dataset consists of feature vectors belonging to 12,330 sessions. The dataset was formed so that each session\n",
    "would belong to a different user in a 1-year period to avoid any tendency to a specific campaign, special day, user profile, or period.Of the 12,330 sessions in the dataset, 84.5% (10,422) were negative class samples that did not end with shopping, and the rest (1908) were positive class samples ending with shopping.\n",
    "\n",
    "\n",
    "## Attribute Information:\n",
    "\n",
    "The dataset consists of 10 numerical and 8 categorical attributes.\n",
    "The 'Revenue' attribute can be used as the class label.\n",
    "\n",
    "\"Administrative\", \"Administrative Duration\", \"Informational\", \"Informational Duration\", \"Product Related\" and \"Product Related Duration\" represent the number of different types of pages visited by the visitor in that session and total time spent in each of these page categories. The values of these features are derived from the URL information of the pages visited by the user and updated in real time when a user takes an action, e.g. moving from one page to another. \n",
    "\n",
    "The \"Bounce Rate\", \"Exit Rate\" and \"Page Value\" features represent the metrics measured by \"Google Analytics\" for each page in the e-commerce site. The value of \"Bounce Rate\" feature for a web page refers to the percentage of visitors who enter the site from that page and then leave (\"bounce\") without triggering any other requests to the analytics server during that session. The value of \"Exit Rate\" feature for a specific web page is calculated as for all pageviews to the page, the percentage that were the last in the session. The \"Page Value\" feature represents the average value for a web page that a user visited before completing an e-commerce transaction. The \"Special Day\" feature indicates the closeness of the site visiting time to a specific special day (e.g. Mother’s Day, Valentine's Day) in which the sessions are more likely to be finalized with transaction. The value of this attribute is determined by considering the dynamics of e-commerce such as the duration between the order date and delivery date. For example, for Valentina’s day, this value takes a nonzero value between February 2 and February 12, zero before and after this date unless it is close to another special day, and its maximum value of 1 on February 8. The dataset also includes operating system, browser, region, traffic type, visitor type as returning or new visitor, a Boolean value indicating whether the date of the visit is weekend, and month of the year.\n",
    "\n",
    "\n",
    "\n"
   ]
  },
  {
   "cell_type": "markdown",
   "metadata": {},
   "source": [
    "# Motivation"
   ]
  },
  {
   "cell_type": "markdown",
   "metadata": {},
   "source": [
    "In the U.S. approximately 9% of total retail sales comes from an e-commerce website. In fact, companies like Amazon have created retail empires off being such a huge e-commerce website. With e-commerce becoming more and more prevalent in today’s economy it is important for businesses within this sector to understand what factors into a site visitor making a purchase, and being able to put their attention on potential customers. We thought it would be interesting to look into if it’s possible to predict the buying behavior of a site visitor as this can have many implications such as E-commerce website able to better target ads or figure out factors that may lead to increased sales."
   ]
  },
  {
   "cell_type": "markdown",
   "metadata": {},
   "source": [
    "## Data Characteristics and Initial Exploration\n",
    "The data used in this analysis is an Online Shoppers Purchasing Intention data set provided on the UC Irvine’s Machine Learning Repository. The primary purpose of the data set is to predict the purchasing intentions of a visitor to this particular store’s website. The variables in the data set can be split into these three categories: data related to the page that the user lands on, Google Analytics metrics, and user visit data. \n",
    "\n",
    "Upon initially exploring the data, the first thing I noticed was the imbalance in the labels. In this data set 85% of the site visitors did not end up making a purchase, the assumption was that majority of people window shop and did usually do not want to commit to a purchase."
   ]
  },
  {
   "cell_type": "markdown",
   "metadata": {},
   "source": [
    "# Settings"
   ]
  },
  {
   "cell_type": "code",
   "execution_count": 31,
   "metadata": {},
   "outputs": [],
   "source": [
    "# first we need to import our numerical package\n",
    "import pandas as pd\n",
    "import numpy as np\n",
    "import seaborn as sns\n",
    "import matplotlib.pyplot as plt\n",
    "import copy\n",
    "import datetime\n",
    "import pickle as pkl\n",
    "from sklearn.model_selection import train_test_split\n",
    "from sklearn.metrics import classification_report\n",
    "\n",
    "import warnings"
   ]
  },
  {
   "cell_type": "markdown",
   "metadata": {},
   "source": [
    "# Import Data"
   ]
  },
  {
   "cell_type": "code",
   "execution_count": 32,
   "metadata": {},
   "outputs": [],
   "source": [
    "## Read the .xlsx file with the pandas read_csv method\n",
    "df = pd.read_csv('online_shoppers_intention.csv')\n",
    "df.drop_duplicates(inplace=True)"
   ]
  },
  {
   "cell_type": "code",
   "execution_count": 33,
   "metadata": {},
   "outputs": [],
   "source": [
    "df = df.rename(str.lower, axis='columns')"
   ]
  },
  {
   "cell_type": "code",
   "execution_count": 34,
   "metadata": {},
   "outputs": [
    {
     "data": {
      "text/plain": [
       "(12205, 18)"
      ]
     },
     "execution_count": 34,
     "metadata": {},
     "output_type": "execute_result"
    }
   ],
   "source": [
    "df.shape"
   ]
  },
  {
   "cell_type": "code",
   "execution_count": 35,
   "metadata": {},
   "outputs": [
    {
     "data": {
      "text/plain": [
       "administrative               27\n",
       "administrative_duration    3335\n",
       "informational                17\n",
       "informational_duration     1258\n",
       "productrelated              311\n",
       "productrelated_duration    9551\n",
       "bouncerates                1872\n",
       "exitrates                  4777\n",
       "pagevalues                 2704\n",
       "specialday                    6\n",
       "month                        10\n",
       "operatingsystems              8\n",
       "browser                      13\n",
       "region                        9\n",
       "traffictype                  20\n",
       "visitortype                   3\n",
       "weekend                       2\n",
       "revenue                       2\n",
       "dtype: int64"
      ]
     },
     "execution_count": 35,
     "metadata": {},
     "output_type": "execute_result"
    }
   ],
   "source": [
    "df.nunique()"
   ]
  },
  {
   "cell_type": "code",
   "execution_count": 36,
   "metadata": {},
   "outputs": [
    {
     "data": {
      "text/plain": [
       "['administrative',\n",
       " 'administrative_duration',\n",
       " 'informational',\n",
       " 'informational_duration',\n",
       " 'productrelated',\n",
       " 'productrelated_duration',\n",
       " 'bouncerates',\n",
       " 'exitrates',\n",
       " 'pagevalues',\n",
       " 'specialday',\n",
       " 'month',\n",
       " 'operatingsystems',\n",
       " 'browser',\n",
       " 'region',\n",
       " 'traffictype',\n",
       " 'visitortype',\n",
       " 'weekend',\n",
       " 'revenue']"
      ]
     },
     "execution_count": 36,
     "metadata": {},
     "output_type": "execute_result"
    }
   ],
   "source": [
    "list(df)"
   ]
  },
  {
   "cell_type": "code",
   "execution_count": 37,
   "metadata": {},
   "outputs": [],
   "source": [
    "l_target = ['revenue']\n",
    "l_num = ['administrative',\n",
    " 'administrative_duration',\n",
    " 'informational',\n",
    " 'informational_duration',\n",
    " 'productrelated',\n",
    " 'productrelated_duration',\n",
    " 'bouncerates',\n",
    " 'exitrates',\n",
    " 'pagevalues',\n",
    " 'specialday',\n",
    "# 'operatingsystems',\n",
    "#  'browser',\n",
    " # 'region',\n",
    "#  'traffictype'\n",
    "        ]\n",
    "l_bool = ['weekend']\n",
    "l_cat = ['month', 'visitortype', 'browser', 'operatingsystems',  'traffictype', 'region']"
   ]
  },
  {
   "cell_type": "code",
   "execution_count": 38,
   "metadata": {},
   "outputs": [],
   "source": [
    "for i in ['weekend', 'revenue']:\n",
    "    df[i] = df[i].astype(int)"
   ]
  },
  {
   "cell_type": "code",
   "execution_count": 39,
   "metadata": {},
   "outputs": [],
   "source": [
    "df = pd.get_dummies(df, columns = l_cat)"
   ]
  },
  {
   "cell_type": "code",
   "execution_count": 40,
   "metadata": {},
   "outputs": [
    {
     "data": {
      "text/html": [
       "<div>\n",
       "<style scoped>\n",
       "    .dataframe tbody tr th:only-of-type {\n",
       "        vertical-align: middle;\n",
       "    }\n",
       "\n",
       "    .dataframe tbody tr th {\n",
       "        vertical-align: top;\n",
       "    }\n",
       "\n",
       "    .dataframe thead th {\n",
       "        text-align: right;\n",
       "    }\n",
       "</style>\n",
       "<table border=\"1\" class=\"dataframe\">\n",
       "  <thead>\n",
       "    <tr style=\"text-align: right;\">\n",
       "      <th></th>\n",
       "      <th>administrative</th>\n",
       "      <th>administrative_duration</th>\n",
       "      <th>informational</th>\n",
       "      <th>informational_duration</th>\n",
       "      <th>productrelated</th>\n",
       "      <th>productrelated_duration</th>\n",
       "      <th>bouncerates</th>\n",
       "      <th>exitrates</th>\n",
       "      <th>pagevalues</th>\n",
       "      <th>specialday</th>\n",
       "      <th>...</th>\n",
       "      <th>traffictype_20</th>\n",
       "      <th>region_1</th>\n",
       "      <th>region_2</th>\n",
       "      <th>region_3</th>\n",
       "      <th>region_4</th>\n",
       "      <th>region_5</th>\n",
       "      <th>region_6</th>\n",
       "      <th>region_7</th>\n",
       "      <th>region_8</th>\n",
       "      <th>region_9</th>\n",
       "    </tr>\n",
       "  </thead>\n",
       "  <tbody>\n",
       "    <tr>\n",
       "      <th>0</th>\n",
       "      <td>0</td>\n",
       "      <td>0.0</td>\n",
       "      <td>0</td>\n",
       "      <td>0.0</td>\n",
       "      <td>1</td>\n",
       "      <td>0.000000</td>\n",
       "      <td>0.200000</td>\n",
       "      <td>0.200000</td>\n",
       "      <td>0.000000</td>\n",
       "      <td>0.0</td>\n",
       "      <td>...</td>\n",
       "      <td>0</td>\n",
       "      <td>1</td>\n",
       "      <td>0</td>\n",
       "      <td>0</td>\n",
       "      <td>0</td>\n",
       "      <td>0</td>\n",
       "      <td>0</td>\n",
       "      <td>0</td>\n",
       "      <td>0</td>\n",
       "      <td>0</td>\n",
       "    </tr>\n",
       "    <tr>\n",
       "      <th>1</th>\n",
       "      <td>0</td>\n",
       "      <td>0.0</td>\n",
       "      <td>0</td>\n",
       "      <td>0.0</td>\n",
       "      <td>2</td>\n",
       "      <td>64.000000</td>\n",
       "      <td>0.000000</td>\n",
       "      <td>0.100000</td>\n",
       "      <td>0.000000</td>\n",
       "      <td>0.0</td>\n",
       "      <td>...</td>\n",
       "      <td>0</td>\n",
       "      <td>1</td>\n",
       "      <td>0</td>\n",
       "      <td>0</td>\n",
       "      <td>0</td>\n",
       "      <td>0</td>\n",
       "      <td>0</td>\n",
       "      <td>0</td>\n",
       "      <td>0</td>\n",
       "      <td>0</td>\n",
       "    </tr>\n",
       "    <tr>\n",
       "      <th>2</th>\n",
       "      <td>0</td>\n",
       "      <td>0.0</td>\n",
       "      <td>0</td>\n",
       "      <td>0.0</td>\n",
       "      <td>1</td>\n",
       "      <td>0.000000</td>\n",
       "      <td>0.200000</td>\n",
       "      <td>0.200000</td>\n",
       "      <td>0.000000</td>\n",
       "      <td>0.0</td>\n",
       "      <td>...</td>\n",
       "      <td>0</td>\n",
       "      <td>0</td>\n",
       "      <td>0</td>\n",
       "      <td>0</td>\n",
       "      <td>0</td>\n",
       "      <td>0</td>\n",
       "      <td>0</td>\n",
       "      <td>0</td>\n",
       "      <td>0</td>\n",
       "      <td>1</td>\n",
       "    </tr>\n",
       "    <tr>\n",
       "      <th>3</th>\n",
       "      <td>0</td>\n",
       "      <td>0.0</td>\n",
       "      <td>0</td>\n",
       "      <td>0.0</td>\n",
       "      <td>2</td>\n",
       "      <td>2.666667</td>\n",
       "      <td>0.050000</td>\n",
       "      <td>0.140000</td>\n",
       "      <td>0.000000</td>\n",
       "      <td>0.0</td>\n",
       "      <td>...</td>\n",
       "      <td>0</td>\n",
       "      <td>0</td>\n",
       "      <td>1</td>\n",
       "      <td>0</td>\n",
       "      <td>0</td>\n",
       "      <td>0</td>\n",
       "      <td>0</td>\n",
       "      <td>0</td>\n",
       "      <td>0</td>\n",
       "      <td>0</td>\n",
       "    </tr>\n",
       "    <tr>\n",
       "      <th>4</th>\n",
       "      <td>0</td>\n",
       "      <td>0.0</td>\n",
       "      <td>0</td>\n",
       "      <td>0.0</td>\n",
       "      <td>10</td>\n",
       "      <td>627.500000</td>\n",
       "      <td>0.020000</td>\n",
       "      <td>0.050000</td>\n",
       "      <td>0.000000</td>\n",
       "      <td>0.0</td>\n",
       "      <td>...</td>\n",
       "      <td>0</td>\n",
       "      <td>1</td>\n",
       "      <td>0</td>\n",
       "      <td>0</td>\n",
       "      <td>0</td>\n",
       "      <td>0</td>\n",
       "      <td>0</td>\n",
       "      <td>0</td>\n",
       "      <td>0</td>\n",
       "      <td>0</td>\n",
       "    </tr>\n",
       "    <tr>\n",
       "      <th>...</th>\n",
       "      <td>...</td>\n",
       "      <td>...</td>\n",
       "      <td>...</td>\n",
       "      <td>...</td>\n",
       "      <td>...</td>\n",
       "      <td>...</td>\n",
       "      <td>...</td>\n",
       "      <td>...</td>\n",
       "      <td>...</td>\n",
       "      <td>...</td>\n",
       "      <td>...</td>\n",
       "      <td>...</td>\n",
       "      <td>...</td>\n",
       "      <td>...</td>\n",
       "      <td>...</td>\n",
       "      <td>...</td>\n",
       "      <td>...</td>\n",
       "      <td>...</td>\n",
       "      <td>...</td>\n",
       "      <td>...</td>\n",
       "      <td>...</td>\n",
       "    </tr>\n",
       "    <tr>\n",
       "      <th>12325</th>\n",
       "      <td>3</td>\n",
       "      <td>145.0</td>\n",
       "      <td>0</td>\n",
       "      <td>0.0</td>\n",
       "      <td>53</td>\n",
       "      <td>1783.791667</td>\n",
       "      <td>0.007143</td>\n",
       "      <td>0.029031</td>\n",
       "      <td>12.241717</td>\n",
       "      <td>0.0</td>\n",
       "      <td>...</td>\n",
       "      <td>0</td>\n",
       "      <td>1</td>\n",
       "      <td>0</td>\n",
       "      <td>0</td>\n",
       "      <td>0</td>\n",
       "      <td>0</td>\n",
       "      <td>0</td>\n",
       "      <td>0</td>\n",
       "      <td>0</td>\n",
       "      <td>0</td>\n",
       "    </tr>\n",
       "    <tr>\n",
       "      <th>12326</th>\n",
       "      <td>0</td>\n",
       "      <td>0.0</td>\n",
       "      <td>0</td>\n",
       "      <td>0.0</td>\n",
       "      <td>5</td>\n",
       "      <td>465.750000</td>\n",
       "      <td>0.000000</td>\n",
       "      <td>0.021333</td>\n",
       "      <td>0.000000</td>\n",
       "      <td>0.0</td>\n",
       "      <td>...</td>\n",
       "      <td>0</td>\n",
       "      <td>1</td>\n",
       "      <td>0</td>\n",
       "      <td>0</td>\n",
       "      <td>0</td>\n",
       "      <td>0</td>\n",
       "      <td>0</td>\n",
       "      <td>0</td>\n",
       "      <td>0</td>\n",
       "      <td>0</td>\n",
       "    </tr>\n",
       "    <tr>\n",
       "      <th>12327</th>\n",
       "      <td>0</td>\n",
       "      <td>0.0</td>\n",
       "      <td>0</td>\n",
       "      <td>0.0</td>\n",
       "      <td>6</td>\n",
       "      <td>184.250000</td>\n",
       "      <td>0.083333</td>\n",
       "      <td>0.086667</td>\n",
       "      <td>0.000000</td>\n",
       "      <td>0.0</td>\n",
       "      <td>...</td>\n",
       "      <td>0</td>\n",
       "      <td>1</td>\n",
       "      <td>0</td>\n",
       "      <td>0</td>\n",
       "      <td>0</td>\n",
       "      <td>0</td>\n",
       "      <td>0</td>\n",
       "      <td>0</td>\n",
       "      <td>0</td>\n",
       "      <td>0</td>\n",
       "    </tr>\n",
       "    <tr>\n",
       "      <th>12328</th>\n",
       "      <td>4</td>\n",
       "      <td>75.0</td>\n",
       "      <td>0</td>\n",
       "      <td>0.0</td>\n",
       "      <td>15</td>\n",
       "      <td>346.000000</td>\n",
       "      <td>0.000000</td>\n",
       "      <td>0.021053</td>\n",
       "      <td>0.000000</td>\n",
       "      <td>0.0</td>\n",
       "      <td>...</td>\n",
       "      <td>0</td>\n",
       "      <td>0</td>\n",
       "      <td>0</td>\n",
       "      <td>1</td>\n",
       "      <td>0</td>\n",
       "      <td>0</td>\n",
       "      <td>0</td>\n",
       "      <td>0</td>\n",
       "      <td>0</td>\n",
       "      <td>0</td>\n",
       "    </tr>\n",
       "    <tr>\n",
       "      <th>12329</th>\n",
       "      <td>0</td>\n",
       "      <td>0.0</td>\n",
       "      <td>0</td>\n",
       "      <td>0.0</td>\n",
       "      <td>3</td>\n",
       "      <td>21.250000</td>\n",
       "      <td>0.000000</td>\n",
       "      <td>0.066667</td>\n",
       "      <td>0.000000</td>\n",
       "      <td>0.0</td>\n",
       "      <td>...</td>\n",
       "      <td>0</td>\n",
       "      <td>1</td>\n",
       "      <td>0</td>\n",
       "      <td>0</td>\n",
       "      <td>0</td>\n",
       "      <td>0</td>\n",
       "      <td>0</td>\n",
       "      <td>0</td>\n",
       "      <td>0</td>\n",
       "      <td>0</td>\n",
       "    </tr>\n",
       "  </tbody>\n",
       "</table>\n",
       "<p>12205 rows × 75 columns</p>\n",
       "</div>"
      ],
      "text/plain": [
       "       administrative  administrative_duration  informational  \\\n",
       "0                   0                      0.0              0   \n",
       "1                   0                      0.0              0   \n",
       "2                   0                      0.0              0   \n",
       "3                   0                      0.0              0   \n",
       "4                   0                      0.0              0   \n",
       "...               ...                      ...            ...   \n",
       "12325               3                    145.0              0   \n",
       "12326               0                      0.0              0   \n",
       "12327               0                      0.0              0   \n",
       "12328               4                     75.0              0   \n",
       "12329               0                      0.0              0   \n",
       "\n",
       "       informational_duration  productrelated  productrelated_duration  \\\n",
       "0                         0.0               1                 0.000000   \n",
       "1                         0.0               2                64.000000   \n",
       "2                         0.0               1                 0.000000   \n",
       "3                         0.0               2                 2.666667   \n",
       "4                         0.0              10               627.500000   \n",
       "...                       ...             ...                      ...   \n",
       "12325                     0.0              53              1783.791667   \n",
       "12326                     0.0               5               465.750000   \n",
       "12327                     0.0               6               184.250000   \n",
       "12328                     0.0              15               346.000000   \n",
       "12329                     0.0               3                21.250000   \n",
       "\n",
       "       bouncerates  exitrates  pagevalues  specialday  ...  traffictype_20  \\\n",
       "0         0.200000   0.200000    0.000000         0.0  ...               0   \n",
       "1         0.000000   0.100000    0.000000         0.0  ...               0   \n",
       "2         0.200000   0.200000    0.000000         0.0  ...               0   \n",
       "3         0.050000   0.140000    0.000000         0.0  ...               0   \n",
       "4         0.020000   0.050000    0.000000         0.0  ...               0   \n",
       "...            ...        ...         ...         ...  ...             ...   \n",
       "12325     0.007143   0.029031   12.241717         0.0  ...               0   \n",
       "12326     0.000000   0.021333    0.000000         0.0  ...               0   \n",
       "12327     0.083333   0.086667    0.000000         0.0  ...               0   \n",
       "12328     0.000000   0.021053    0.000000         0.0  ...               0   \n",
       "12329     0.000000   0.066667    0.000000         0.0  ...               0   \n",
       "\n",
       "       region_1  region_2  region_3  region_4  region_5  region_6  region_7  \\\n",
       "0             1         0         0         0         0         0         0   \n",
       "1             1         0         0         0         0         0         0   \n",
       "2             0         0         0         0         0         0         0   \n",
       "3             0         1         0         0         0         0         0   \n",
       "4             1         0         0         0         0         0         0   \n",
       "...         ...       ...       ...       ...       ...       ...       ...   \n",
       "12325         1         0         0         0         0         0         0   \n",
       "12326         1         0         0         0         0         0         0   \n",
       "12327         1         0         0         0         0         0         0   \n",
       "12328         0         0         1         0         0         0         0   \n",
       "12329         1         0         0         0         0         0         0   \n",
       "\n",
       "       region_8  region_9  \n",
       "0             0         0  \n",
       "1             0         0  \n",
       "2             0         1  \n",
       "3             0         0  \n",
       "4             0         0  \n",
       "...         ...       ...  \n",
       "12325         0         0  \n",
       "12326         0         0  \n",
       "12327         0         0  \n",
       "12328         0         0  \n",
       "12329         0         0  \n",
       "\n",
       "[12205 rows x 75 columns]"
      ]
     },
     "execution_count": 40,
     "metadata": {},
     "output_type": "execute_result"
    }
   ],
   "source": [
    "df"
   ]
  },
  {
   "cell_type": "markdown",
   "metadata": {},
   "source": [
    "# Data"
   ]
  },
  {
   "cell_type": "code",
   "execution_count": 41,
   "metadata": {},
   "outputs": [
    {
     "data": {
      "text/plain": [
       "0    0.843671\n",
       "1    0.156329\n",
       "Name: revenue, dtype: float64"
      ]
     },
     "execution_count": 41,
     "metadata": {},
     "output_type": "execute_result"
    }
   ],
   "source": [
    "df.revenue.value_counts()/len(df)"
   ]
  },
  {
   "cell_type": "code",
   "execution_count": 42,
   "metadata": {},
   "outputs": [
    {
     "data": {
      "image/png": "[encoded data removed]",
      "text/plain": [
       "<Figure size 432x288 with 1 Axes>"
      ]
     },
     "metadata": {},
     "output_type": "display_data"
    }
   ],
   "source": [
    "import seaborn as sns\n",
    "sns.set(style=\"darkgrid\")\n",
    "ax = sns.countplot(x=\"revenue\", data=df)"
   ]
  },
  {
   "cell_type": "code",
   "execution_count": 43,
   "metadata": {
    "scrolled": true
   },
   "outputs": [
    {
     "data": {
      "image/png": "[encoded data removed]",
      "text/plain": [
       "<Figure size 576x576 with 2 Axes>"
      ]
     },
     "metadata": {},
     "output_type": "display_data"
    }
   ],
   "source": [
    "from matplotlib import pyplot\n",
    "corr= df.corr()\n",
    "mask = np.zeros_like(corr)\n",
    "mask[np.triu_indices_from(mask)] = True\n",
    "with sns.axes_style(\"white\"):\n",
    "    f, ax = fig, ax = pyplot.subplots(figsize=(8,8))\n",
    "    ax = sns.heatmap(corr, mask=mask, vmax=.3, square=True, linewidths=.5,cmap='coolwarm',center=0, )\n",
    "    #ax.set_xticklabels(ax.get_xticklabels(), rotation=20)"
   ]
  },
  {
   "cell_type": "code",
   "execution_count": 44,
   "metadata": {},
   "outputs": [],
   "source": [
    "import imblearn\n",
    "from imblearn.over_sampling import SMOTE \n",
    "import numpy as np\n",
    "import warnings\n",
    "warnings.filterwarnings('ignore')"
   ]
  },
  {
   "cell_type": "code",
   "execution_count": 45,
   "metadata": {},
   "outputs": [],
   "source": [
    "X = df.drop(columns = ['revenue'])\n",
    "y = df['revenue']\n"
   ]
  },
  {
   "cell_type": "code",
   "execution_count": 46,
   "metadata": {},
   "outputs": [
    {
     "data": {
      "text/html": [
       "<div>\n",
       "<style scoped>\n",
       "    .dataframe tbody tr th:only-of-type {\n",
       "        vertical-align: middle;\n",
       "    }\n",
       "\n",
       "    .dataframe tbody tr th {\n",
       "        vertical-align: top;\n",
       "    }\n",
       "\n",
       "    .dataframe thead th {\n",
       "        text-align: right;\n",
       "    }\n",
       "</style>\n",
       "<table border=\"1\" class=\"dataframe\">\n",
       "  <thead>\n",
       "    <tr style=\"text-align: right;\">\n",
       "      <th></th>\n",
       "      <th>administrative</th>\n",
       "      <th>administrative_duration</th>\n",
       "      <th>informational</th>\n",
       "      <th>informational_duration</th>\n",
       "      <th>productrelated</th>\n",
       "      <th>productrelated_duration</th>\n",
       "      <th>bouncerates</th>\n",
       "      <th>exitrates</th>\n",
       "      <th>pagevalues</th>\n",
       "      <th>specialday</th>\n",
       "      <th>...</th>\n",
       "      <th>traffictype_20</th>\n",
       "      <th>region_1</th>\n",
       "      <th>region_2</th>\n",
       "      <th>region_3</th>\n",
       "      <th>region_4</th>\n",
       "      <th>region_5</th>\n",
       "      <th>region_6</th>\n",
       "      <th>region_7</th>\n",
       "      <th>region_8</th>\n",
       "      <th>region_9</th>\n",
       "    </tr>\n",
       "  </thead>\n",
       "  <tbody>\n",
       "    <tr>\n",
       "      <th>count</th>\n",
       "      <td>12205.000000</td>\n",
       "      <td>12205.000000</td>\n",
       "      <td>12205.000000</td>\n",
       "      <td>12205.000000</td>\n",
       "      <td>12205.000000</td>\n",
       "      <td>12205.000000</td>\n",
       "      <td>12205.000000</td>\n",
       "      <td>12205.000000</td>\n",
       "      <td>12205.000000</td>\n",
       "      <td>12205.000000</td>\n",
       "      <td>...</td>\n",
       "      <td>12205.000000</td>\n",
       "      <td>12205.000000</td>\n",
       "      <td>12205.000000</td>\n",
       "      <td>12205.000000</td>\n",
       "      <td>12205.000000</td>\n",
       "      <td>12205.000000</td>\n",
       "      <td>12205.000000</td>\n",
       "      <td>12205.000000</td>\n",
       "      <td>12205.000000</td>\n",
       "      <td>12205.000000</td>\n",
       "    </tr>\n",
       "    <tr>\n",
       "      <th>mean</th>\n",
       "      <td>2.338878</td>\n",
       "      <td>81.646331</td>\n",
       "      <td>0.508726</td>\n",
       "      <td>34.825454</td>\n",
       "      <td>32.045637</td>\n",
       "      <td>1206.982457</td>\n",
       "      <td>0.020370</td>\n",
       "      <td>0.041466</td>\n",
       "      <td>5.949574</td>\n",
       "      <td>0.061942</td>\n",
       "      <td>...</td>\n",
       "      <td>0.015813</td>\n",
       "      <td>0.386235</td>\n",
       "      <td>0.092421</td>\n",
       "      <td>0.194920</td>\n",
       "      <td>0.095944</td>\n",
       "      <td>0.026055</td>\n",
       "      <td>0.065629</td>\n",
       "      <td>0.062106</td>\n",
       "      <td>0.035313</td>\n",
       "      <td>0.041376</td>\n",
       "    </tr>\n",
       "    <tr>\n",
       "      <th>std</th>\n",
       "      <td>3.330436</td>\n",
       "      <td>177.491845</td>\n",
       "      <td>1.275617</td>\n",
       "      <td>141.424807</td>\n",
       "      <td>44.593649</td>\n",
       "      <td>1919.601400</td>\n",
       "      <td>0.045255</td>\n",
       "      <td>0.046163</td>\n",
       "      <td>18.653671</td>\n",
       "      <td>0.199666</td>\n",
       "      <td>...</td>\n",
       "      <td>0.124757</td>\n",
       "      <td>0.486906</td>\n",
       "      <td>0.289631</td>\n",
       "      <td>0.396155</td>\n",
       "      <td>0.294527</td>\n",
       "      <td>0.159305</td>\n",
       "      <td>0.247642</td>\n",
       "      <td>0.241357</td>\n",
       "      <td>0.184578</td>\n",
       "      <td>0.199168</td>\n",
       "    </tr>\n",
       "    <tr>\n",
       "      <th>min</th>\n",
       "      <td>0.000000</td>\n",
       "      <td>0.000000</td>\n",
       "      <td>0.000000</td>\n",
       "      <td>0.000000</td>\n",
       "      <td>0.000000</td>\n",
       "      <td>0.000000</td>\n",
       "      <td>0.000000</td>\n",
       "      <td>0.000000</td>\n",
       "      <td>0.000000</td>\n",
       "      <td>0.000000</td>\n",
       "      <td>...</td>\n",
       "      <td>0.000000</td>\n",
       "      <td>0.000000</td>\n",
       "      <td>0.000000</td>\n",
       "      <td>0.000000</td>\n",
       "      <td>0.000000</td>\n",
       "      <td>0.000000</td>\n",
       "      <td>0.000000</td>\n",
       "      <td>0.000000</td>\n",
       "      <td>0.000000</td>\n",
       "      <td>0.000000</td>\n",
       "    </tr>\n",
       "    <tr>\n",
       "      <th>25%</th>\n",
       "      <td>0.000000</td>\n",
       "      <td>0.000000</td>\n",
       "      <td>0.000000</td>\n",
       "      <td>0.000000</td>\n",
       "      <td>8.000000</td>\n",
       "      <td>193.000000</td>\n",
       "      <td>0.000000</td>\n",
       "      <td>0.014231</td>\n",
       "      <td>0.000000</td>\n",
       "      <td>0.000000</td>\n",
       "      <td>...</td>\n",
       "      <td>0.000000</td>\n",
       "      <td>0.000000</td>\n",
       "      <td>0.000000</td>\n",
       "      <td>0.000000</td>\n",
       "      <td>0.000000</td>\n",
       "      <td>0.000000</td>\n",
       "      <td>0.000000</td>\n",
       "      <td>0.000000</td>\n",
       "      <td>0.000000</td>\n",
       "      <td>0.000000</td>\n",
       "    </tr>\n",
       "    <tr>\n",
       "      <th>50%</th>\n",
       "      <td>1.000000</td>\n",
       "      <td>9.000000</td>\n",
       "      <td>0.000000</td>\n",
       "      <td>0.000000</td>\n",
       "      <td>18.000000</td>\n",
       "      <td>608.942857</td>\n",
       "      <td>0.002899</td>\n",
       "      <td>0.025000</td>\n",
       "      <td>0.000000</td>\n",
       "      <td>0.000000</td>\n",
       "      <td>...</td>\n",
       "      <td>0.000000</td>\n",
       "      <td>0.000000</td>\n",
       "      <td>0.000000</td>\n",
       "      <td>0.000000</td>\n",
       "      <td>0.000000</td>\n",
       "      <td>0.000000</td>\n",
       "      <td>0.000000</td>\n",
       "      <td>0.000000</td>\n",
       "      <td>0.000000</td>\n",
       "      <td>0.000000</td>\n",
       "    </tr>\n",
       "    <tr>\n",
       "      <th>75%</th>\n",
       "      <td>4.000000</td>\n",
       "      <td>94.700000</td>\n",
       "      <td>0.000000</td>\n",
       "      <td>0.000000</td>\n",
       "      <td>38.000000</td>\n",
       "      <td>1477.154762</td>\n",
       "      <td>0.016667</td>\n",
       "      <td>0.048529</td>\n",
       "      <td>0.000000</td>\n",
       "      <td>0.000000</td>\n",
       "      <td>...</td>\n",
       "      <td>0.000000</td>\n",
       "      <td>1.000000</td>\n",
       "      <td>0.000000</td>\n",
       "      <td>0.000000</td>\n",
       "      <td>0.000000</td>\n",
       "      <td>0.000000</td>\n",
       "      <td>0.000000</td>\n",
       "      <td>0.000000</td>\n",
       "      <td>0.000000</td>\n",
       "      <td>0.000000</td>\n",
       "    </tr>\n",
       "    <tr>\n",
       "      <th>max</th>\n",
       "      <td>27.000000</td>\n",
       "      <td>3398.750000</td>\n",
       "      <td>24.000000</td>\n",
       "      <td>2549.375000</td>\n",
       "      <td>705.000000</td>\n",
       "      <td>63973.522230</td>\n",
       "      <td>0.200000</td>\n",
       "      <td>0.200000</td>\n",
       "      <td>361.763742</td>\n",
       "      <td>1.000000</td>\n",
       "      <td>...</td>\n",
       "      <td>1.000000</td>\n",
       "      <td>1.000000</td>\n",
       "      <td>1.000000</td>\n",
       "      <td>1.000000</td>\n",
       "      <td>1.000000</td>\n",
       "      <td>1.000000</td>\n",
       "      <td>1.000000</td>\n",
       "      <td>1.000000</td>\n",
       "      <td>1.000000</td>\n",
       "      <td>1.000000</td>\n",
       "    </tr>\n",
       "  </tbody>\n",
       "</table>\n",
       "<p>8 rows × 75 columns</p>\n",
       "</div>"
      ],
      "text/plain": [
       "       administrative  administrative_duration  informational  \\\n",
       "count    12205.000000             12205.000000   12205.000000   \n",
       "mean         2.338878                81.646331       0.508726   \n",
       "std          3.330436               177.491845       1.275617   \n",
       "min          0.000000                 0.000000       0.000000   \n",
       "25%          0.000000                 0.000000       0.000000   \n",
       "50%          1.000000                 9.000000       0.000000   \n",
       "75%          4.000000                94.700000       0.000000   \n",
       "max         27.000000              3398.750000      24.000000   \n",
       "\n",
       "       informational_duration  productrelated  productrelated_duration  \\\n",
       "count            12205.000000    12205.000000             12205.000000   \n",
       "mean                34.825454       32.045637              1206.982457   \n",
       "std                141.424807       44.593649              1919.601400   \n",
       "min                  0.000000        0.000000                 0.000000   \n",
       "25%                  0.000000        8.000000               193.000000   \n",
       "50%                  0.000000       18.000000               608.942857   \n",
       "75%                  0.000000       38.000000              1477.154762   \n",
       "max               2549.375000      705.000000             63973.522230   \n",
       "\n",
       "        bouncerates     exitrates    pagevalues    specialday  ...  \\\n",
       "count  12205.000000  12205.000000  12205.000000  12205.000000  ...   \n",
       "mean       0.020370      0.041466      5.949574      0.061942  ...   \n",
       "std        0.045255      0.046163     18.653671      0.199666  ...   \n",
       "min        0.000000      0.000000      0.000000      0.000000  ...   \n",
       "25%        0.000000      0.014231      0.000000      0.000000  ...   \n",
       "50%        0.002899      0.025000      0.000000      0.000000  ...   \n",
       "75%        0.016667      0.048529      0.000000      0.000000  ...   \n",
       "max        0.200000      0.200000    361.763742      1.000000  ...   \n",
       "\n",
       "       traffictype_20      region_1      region_2      region_3      region_4  \\\n",
       "count    12205.000000  12205.000000  12205.000000  12205.000000  12205.000000   \n",
       "mean         0.015813      0.386235      0.092421      0.194920      0.095944   \n",
       "std          0.124757      0.486906      0.289631      0.396155      0.294527   \n",
       "min          0.000000      0.000000      0.000000      0.000000      0.000000   \n",
       "25%          0.000000      0.000000      0.000000      0.000000      0.000000   \n",
       "50%          0.000000      0.000000      0.000000      0.000000      0.000000   \n",
       "75%          0.000000      1.000000      0.000000      0.000000      0.000000   \n",
       "max          1.000000      1.000000      1.000000      1.000000      1.000000   \n",
       "\n",
       "           region_5      region_6      region_7      region_8      region_9  \n",
       "count  12205.000000  12205.000000  12205.000000  12205.000000  12205.000000  \n",
       "mean       0.026055      0.065629      0.062106      0.035313      0.041376  \n",
       "std        0.159305      0.247642      0.241357      0.184578      0.199168  \n",
       "min        0.000000      0.000000      0.000000      0.000000      0.000000  \n",
       "25%        0.000000      0.000000      0.000000      0.000000      0.000000  \n",
       "50%        0.000000      0.000000      0.000000      0.000000      0.000000  \n",
       "75%        0.000000      0.000000      0.000000      0.000000      0.000000  \n",
       "max        1.000000      1.000000      1.000000      1.000000      1.000000  \n",
       "\n",
       "[8 rows x 75 columns]"
      ]
     },
     "execution_count": 46,
     "metadata": {},
     "output_type": "execute_result"
    }
   ],
   "source": [
    "df_d = df.describe()\n",
    "df_d"
   ]
  },
  {
   "cell_type": "code",
   "execution_count": 47,
   "metadata": {},
   "outputs": [
    {
     "data": {
      "text/plain": [
       "27.0"
      ]
     },
     "execution_count": 47,
     "metadata": {},
     "output_type": "execute_result"
    }
   ],
   "source": [
    "df_d['administrative'].iloc[-1]"
   ]
  },
  {
   "cell_type": "code",
   "execution_count": 48,
   "metadata": {},
   "outputs": [],
   "source": [
    "min_dict = {}\n",
    "max_dict = {}\n",
    "for i in list(df_d):\n",
    "    min_dict[i] = df_d[i].iloc[3]\n",
    "    max_dict[i] = df_d[i].iloc[-1]\n",
    "    \n",
    "import json\n",
    "\n",
    "with open('min_dict.json', 'w') as fp:\n",
    "    json.dump(min_dict, fp)\n",
    "with open('max_dict.json', 'w') as fp:\n",
    "    json.dump(max_dict, fp)"
   ]
  },
  {
   "cell_type": "code",
   "execution_count": 49,
   "metadata": {},
   "outputs": [
    {
     "data": {
      "text/plain": [
       "361.76374189999996"
      ]
     },
     "execution_count": 49,
     "metadata": {},
     "output_type": "execute_result"
    }
   ],
   "source": [
    "max_dict['pagevalues']"
   ]
  },
  {
   "cell_type": "code",
   "execution_count": 50,
   "metadata": {},
   "outputs": [
    {
     "data": {
      "text/plain": [
       "{'administrative': 27.0,\n",
       " 'administrative_duration': 3398.75,\n",
       " 'informational': 24.0,\n",
       " 'informational_duration': 2549.375,\n",
       " 'productrelated': 705.0,\n",
       " 'productrelated_duration': 63973.522229999995,\n",
       " 'bouncerates': 0.2,\n",
       " 'exitrates': 0.2,\n",
       " 'pagevalues': 361.76374189999996,\n",
       " 'specialday': 1.0,\n",
       " 'weekend': 1.0,\n",
       " 'revenue': 1.0,\n",
       " 'month_Aug': 1.0,\n",
       " 'month_Dec': 1.0,\n",
       " 'month_Feb': 1.0,\n",
       " 'month_Jul': 1.0,\n",
       " 'month_June': 1.0,\n",
       " 'month_Mar': 1.0,\n",
       " 'month_May': 1.0,\n",
       " 'month_Nov': 1.0,\n",
       " 'month_Oct': 1.0,\n",
       " 'month_Sep': 1.0,\n",
       " 'visitortype_New_Visitor': 1.0,\n",
       " 'visitortype_Other': 1.0,\n",
       " 'visitortype_Returning_Visitor': 1.0,\n",
       " 'browser_1': 1.0,\n",
       " 'browser_2': 1.0,\n",
       " 'browser_3': 1.0,\n",
       " 'browser_4': 1.0,\n",
       " 'browser_5': 1.0,\n",
       " 'browser_6': 1.0,\n",
       " 'browser_7': 1.0,\n",
       " 'browser_8': 1.0,\n",
       " 'browser_9': 1.0,\n",
       " 'browser_10': 1.0,\n",
       " 'browser_11': 1.0,\n",
       " 'browser_12': 1.0,\n",
       " 'browser_13': 1.0,\n",
       " 'operatingsystems_1': 1.0,\n",
       " 'operatingsystems_2': 1.0,\n",
       " 'operatingsystems_3': 1.0,\n",
       " 'operatingsystems_4': 1.0,\n",
       " 'operatingsystems_5': 1.0,\n",
       " 'operatingsystems_6': 1.0,\n",
       " 'operatingsystems_7': 1.0,\n",
       " 'operatingsystems_8': 1.0,\n",
       " 'traffictype_1': 1.0,\n",
       " 'traffictype_2': 1.0,\n",
       " 'traffictype_3': 1.0,\n",
       " 'traffictype_4': 1.0,\n",
       " 'traffictype_5': 1.0,\n",
       " 'traffictype_6': 1.0,\n",
       " 'traffictype_7': 1.0,\n",
       " 'traffictype_8': 1.0,\n",
       " 'traffictype_9': 1.0,\n",
       " 'traffictype_10': 1.0,\n",
       " 'traffictype_11': 1.0,\n",
       " 'traffictype_12': 1.0,\n",
       " 'traffictype_13': 1.0,\n",
       " 'traffictype_14': 1.0,\n",
       " 'traffictype_15': 1.0,\n",
       " 'traffictype_16': 1.0,\n",
       " 'traffictype_17': 1.0,\n",
       " 'traffictype_18': 1.0,\n",
       " 'traffictype_19': 1.0,\n",
       " 'traffictype_20': 1.0,\n",
       " 'region_1': 1.0,\n",
       " 'region_2': 1.0,\n",
       " 'region_3': 1.0,\n",
       " 'region_4': 1.0,\n",
       " 'region_5': 1.0,\n",
       " 'region_6': 1.0,\n",
       " 'region_7': 1.0,\n",
       " 'region_8': 1.0,\n",
       " 'region_9': 1.0}"
      ]
     },
     "execution_count": 50,
     "metadata": {},
     "output_type": "execute_result"
    }
   ],
   "source": [
    "max_dict"
   ]
  },
  {
   "cell_type": "markdown",
   "metadata": {},
   "source": [
    "## create a test set"
   ]
  },
  {
   "cell_type": "code",
   "execution_count": 51,
   "metadata": {},
   "outputs": [
    {
     "ename": "NameError",
     "evalue": "name 'msk' is not defined",
     "output_type": "error",
     "traceback": [
      "\u001b[0;31m---------------------------------------------------------------------------\u001b[0m",
      "\u001b[0;31mNameError\u001b[0m                                 Traceback (most recent call last)",
      "\u001b[0;32m<ipython-input-51-647cfd462acc>\u001b[0m in \u001b[0;36m<module>\u001b[0;34m\u001b[0m\n\u001b[0;32m----> 1\u001b[0;31m \u001b[0mmsk\u001b[0m\u001b[0;34m\u001b[0m\u001b[0;34m\u001b[0m\u001b[0m\n\u001b[0m",
      "\u001b[0;31mNameError\u001b[0m: name 'msk' is not defined"
     ]
    }
   ],
   "source": [
    "msk"
   ]
  },
  {
   "cell_type": "code",
   "execution_count": 52,
   "metadata": {},
   "outputs": [],
   "source": [
    "msk = np.random.rand(len(df)) < 0.8\n",
    "df_train = df[msk]\n",
    "df_test = df[~msk]"
   ]
  },
  {
   "cell_type": "code",
   "execution_count": 53,
   "metadata": {},
   "outputs": [
    {
     "data": {
      "text/plain": [
       "0    0.842831\n",
       "1    0.157169\n",
       "Name: revenue, dtype: float64"
      ]
     },
     "execution_count": 53,
     "metadata": {},
     "output_type": "execute_result"
    }
   ],
   "source": [
    "df_train['revenue'].value_counts(normalize=True)"
   ]
  },
  {
   "cell_type": "code",
   "execution_count": 54,
   "metadata": {},
   "outputs": [
    {
     "data": {
      "text/plain": [
       "0    0.847078\n",
       "1    0.152922\n",
       "Name: revenue, dtype: float64"
      ]
     },
     "execution_count": 54,
     "metadata": {},
     "output_type": "execute_result"
    }
   ],
   "source": [
    "df_test['revenue'].value_counts(normalize=True)"
   ]
  },
  {
   "cell_type": "code",
   "execution_count": 55,
   "metadata": {},
   "outputs": [],
   "source": [
    "X_train = df_train.drop(columns = ['revenue'])\n",
    "y_train = df_train['revenue']"
   ]
  },
  {
   "cell_type": "code",
   "execution_count": 56,
   "metadata": {},
   "outputs": [],
   "source": [
    "X_test = df_test.drop(columns = ['revenue'])\n",
    "y_test = df_test['revenue']"
   ]
  },
  {
   "cell_type": "code",
   "execution_count": 57,
   "metadata": {},
   "outputs": [
    {
     "name": "stdout",
     "output_type": "stream",
     "text": [
      "CPU times: user 82.4 ms, sys: 14.9 ms, total: 97.2 ms\n",
      "Wall time: 102 ms\n"
     ]
    }
   ],
   "source": [
    "%%time\n",
    "sm = SMOTE(random_state = 42)\n",
    "X_res, y_res = sm.fit_sample(X_train, y_train)\n",
    "X_train, y_train = X_res, y_res"
   ]
  },
  {
   "cell_type": "code",
   "execution_count": 58,
   "metadata": {},
   "outputs": [
    {
     "data": {
      "text/plain": [
       "0    0.5\n",
       "1    0.5\n",
       "Name: revenue, dtype: float64"
      ]
     },
     "execution_count": 58,
     "metadata": {},
     "output_type": "execute_result"
    }
   ],
   "source": [
    "y_res.value_counts(normalize=True,sort=False)"
   ]
  },
  {
   "cell_type": "code",
   "execution_count": 59,
   "metadata": {},
   "outputs": [
    {
     "data": {
      "text/plain": [
       "0     1151\n",
       "1      261\n",
       "2      218\n",
       "4      156\n",
       "3      142\n",
       "5      122\n",
       "6       87\n",
       "8       60\n",
       "7       59\n",
       "9       48\n",
       "10      35\n",
       "12      18\n",
       "11      15\n",
       "13      12\n",
       "14       9\n",
       "15       7\n",
       "17       4\n",
       "16       4\n",
       "18       3\n",
       "21       1\n",
       "23       1\n",
       "Name: administrative, dtype: int64"
      ]
     },
     "execution_count": 59,
     "metadata": {},
     "output_type": "execute_result"
    }
   ],
   "source": [
    "X_test.administrative.value_counts()"
   ]
  },
  {
   "cell_type": "code",
   "execution_count": 60,
   "metadata": {},
   "outputs": [],
   "source": [
    "# df"
   ]
  },
  {
   "cell_type": "code",
   "execution_count": 61,
   "metadata": {},
   "outputs": [],
   "source": [
    "# from sklearn.model_selection import train_test_split\n",
    "# x_train, x_test, y_train, y_test = train_test_split(X_res, \n",
    "#                                                     y_res, \n",
    "#                                                     test_size = 0.20, \n",
    "#                                                     random_state = 0)\n",
    "# x_train, x_test, y_train, y_test = train_test_split(X, \n",
    "#                                                     y, \n",
    "#                                                     test_size = 0.20, \n",
    "#                                                     random_state = 0)"
   ]
  },
  {
   "cell_type": "markdown",
   "metadata": {},
   "source": [
    "for classification models accuracy is just a percentage of the data that you predicted correctly.Here, we fit (train) the model (logistic regression), for training we need x_train and y_train. Once the model is trained, pass it the testing data to see if we get predictions back. To do so, we invoke the .predict(x_test) method. We can also invoke the .predict_proba(x_test) method if we wish to get the raw probabilites instead of the final predictions.We don't need to pass the labels, because in order to predict, We don't need to know what labels are. "
   ]
  },
  {
   "cell_type": "markdown",
   "metadata": {},
   "source": [
    "# Models"
   ]
  },
  {
   "cell_type": "markdown",
   "metadata": {},
   "source": [
    "## Logistic regression (with SMOTE)"
   ]
  },
  {
   "cell_type": "code",
   "execution_count": 62,
   "metadata": {},
   "outputs": [
    {
     "data": {
      "text/plain": [
       "LogisticRegression(C=1.0, class_weight=None, dual=False, fit_intercept=True,\n",
       "                   intercept_scaling=1, l1_ratio=None, max_iter=100,\n",
       "                   multi_class='auto', n_jobs=None, penalty='l2',\n",
       "                   random_state=None, solver='lbfgs', tol=0.0001, verbose=0,\n",
       "                   warm_start=False)"
      ]
     },
     "execution_count": 62,
     "metadata": {},
     "output_type": "execute_result"
    }
   ],
   "source": [
    "from sklearn.linear_model import LogisticRegression\n",
    "lr=LogisticRegression()\n",
    "lr.fit(X_train,y_train)"
   ]
  },
  {
   "cell_type": "code",
   "execution_count": 63,
   "metadata": {},
   "outputs": [],
   "source": [
    "y_test_pred=lr.predict(X_test)"
   ]
  },
  {
   "cell_type": "markdown",
   "metadata": {},
   "source": [
    "Get the accuracy of the model by loading from sklearn.metrics import accuracy_score and calling the accuracy_score function.I did my training. I did my prediction and now I am doing my evaluation, meaning that I am going to see how close the predictions come to the ground truth."
   ]
  },
  {
   "cell_type": "code",
   "execution_count": 64,
   "metadata": {},
   "outputs": [
    {
     "data": {
      "text/plain": [
       "0.8736013261500207"
      ]
     },
     "execution_count": 64,
     "metadata": {},
     "output_type": "execute_result"
    }
   ],
   "source": [
    "from sklearn.metrics import accuracy_score\n",
    "accuracy_score(y_test,y_test_pred)"
   ]
  },
  {
   "cell_type": "markdown",
   "metadata": {},
   "source": [
    "Is accuracy a good metric for evaluating this model? Why or why not? So if we had a machine learning model that predicted that all of the shoppers won't buy No matter what you know about any other piece of information in the data sets, I'm just going to predict that all of shoppers won't buy, I should be correct about 84% of the time . What the model did is it took a look at all of the other information that we know about the shoppers, all the information that is in the data here.it was able to improve on that baseline accuracy. If you want to think of the 84% as a baseline accuracy on false prediction. currently my model was not able to improve on that baseline accuracy. The most direct metric to look at, is the confusion matrix.\n",
    "First thing that we can look it up at any kind of classification model is we can look at a confusion matrix.confusion matrix says on the rows I'm going to show you the true labels. So at the top are shoppers that did purchase and the bottom are shoppers that didn't purchase and then on the columns, I'm going to show you the predictions. So the first column is shoppers that we predicted to purchase. And then the second column are shoppers that we predicted to not purchase .And so when you look at the diagonal terms in the classification in the confusion matrix, those are predictions that match the true value.And the off diagonal ones are predictions that don't match.Confusion matrix is very useful and intuitive because we can see different types of errors."
   ]
  },
  {
   "cell_type": "code",
   "execution_count": 65,
   "metadata": {},
   "outputs": [
    {
     "name": "stdout",
     "output_type": "stream",
     "text": [
      "[[1869  175]\n",
      " [ 130  239]]\n"
     ]
    }
   ],
   "source": [
    "from sklearn import metrics\n",
    "\n",
    "cm = metrics.confusion_matrix(y_test, y_test_pred)\n",
    "print(cm)"
   ]
  },
  {
   "cell_type": "markdown",
   "metadata": {},
   "source": [
    "From the confusion matrix, we can derive accuracy, precision, recall, and the F1-score, which is a sort of average of precision and recall."
   ]
  },
  {
   "cell_type": "code",
   "execution_count": 66,
   "metadata": {},
   "outputs": [
    {
     "name": "stdout",
     "output_type": "stream",
     "text": [
      "              precision    recall  f1-score   support\n",
      "\n",
      "           0       0.93      0.91      0.92      2044\n",
      "           1       0.58      0.65      0.61       369\n",
      "\n",
      "    accuracy                           0.87      2413\n",
      "   macro avg       0.76      0.78      0.77      2413\n",
      "weighted avg       0.88      0.87      0.88      2413\n",
      "\n"
     ]
    }
   ],
   "source": [
    "from sklearn.metrics import classification_report\n",
    "print(classification_report(y_test, y_test_pred))"
   ]
  },
  {
   "cell_type": "markdown",
   "metadata": {},
   "source": [
    "One way to visually evaluate a binary classification model is using the ROC plot. The area under the ROC plot is called AUC (area under the curve) and the closer it is to 1, the better the model.\n",
    "The ROC is much more helpful when you're comparing multiple models to see which one of them is more accurate because if one model has a curve that is kind of close to the 45 degree line and another model has a curve that is just above the the first model across the entire plot.Then that's a model that does better across the board. From the ROC plot, We can also grab another metric called AUC which stands for area under the curve. The area of everything that is under the blue line is what we call the AUC . The higher is the AUC, the better is my model. "
   ]
  },
  {
   "cell_type": "code",
   "execution_count": 67,
   "metadata": {},
   "outputs": [
    {
     "data": {
      "image/png": "[encoded data removed]",
      "text/plain": [
       "<Figure size 432x288 with 1 Axes>"
      ]
     },
     "metadata": {},
     "output_type": "display_data"
    }
   ],
   "source": [
    "fpr, tpr, thresholds = metrics.roc_curve(y_test, y_test_pred)\n",
    "roc_auc = metrics.auc(fpr, tpr)\n",
    "roc_auc_lr, fpr_lr, tpr_lr, thresholds_lr = roc_auc, fpr, tpr, thresholds\n",
    "\n",
    "import matplotlib.pyplot as plt\n",
    "plt.title('Receiver Operating Characteristic')\n",
    "plt.plot(fpr, tpr, 'b', label = 'AUC = %0.2f' % roc_auc)\n",
    "plt.legend(loc = 'lower right')\n",
    "plt.plot([0, 1], [0, 1],'r--')\n",
    "plt.xlim([0, 1])\n",
    "plt.ylim([0, 1])\n",
    "plt.ylabel('True Positive Rate')\n",
    "plt.xlabel('False Positive Rate')\n",
    "plt.show()"
   ]
  },
  {
   "cell_type": "markdown",
   "metadata": {},
   "source": [
    "## Logistic regression with cross validation"
   ]
  },
  {
   "cell_type": "markdown",
   "metadata": {},
   "source": [
    "In this section, we train the same logistic regression classifier, but use cross-validation to tune it.I need to set the random state.So that doesn't change the model itself and then max-iter is just something about the number of steps that you want to let this run before the model either converge or give up."
   ]
  },
  {
   "cell_type": "code",
   "execution_count": 68,
   "metadata": {},
   "outputs": [
    {
     "data": {
      "text/plain": [
       "(array([0, 1]), array([2090,  323]))"
      ]
     },
     "execution_count": 68,
     "metadata": {},
     "output_type": "execute_result"
    }
   ],
   "source": [
    "from sklearn.linear_model import LogisticRegressionCV\n",
    "clr = LogisticRegressionCV(cv = 5, random_state = 0, max_iter = 1000)\n",
    "clr.fit(X_train, y_train)\n",
    "predictions = clr.predict(X_test)\n",
    "np.unique(predictions, return_counts = True)"
   ]
  },
  {
   "cell_type": "code",
   "execution_count": 69,
   "metadata": {},
   "outputs": [
    {
     "data": {
      "text/plain": [
       "0.8864484044757563"
      ]
     },
     "execution_count": 69,
     "metadata": {},
     "output_type": "execute_result"
    }
   ],
   "source": [
    "accuracy_score(predictions, y_test)"
   ]
  },
  {
   "cell_type": "code",
   "execution_count": 70,
   "metadata": {},
   "outputs": [
    {
     "data": {
      "text/plain": [
       "array([[1930,  114],\n",
       "       [ 160,  209]])"
      ]
     },
     "execution_count": 70,
     "metadata": {},
     "output_type": "execute_result"
    }
   ],
   "source": [
    "metrics.confusion_matrix(y_test, predictions)"
   ]
  },
  {
   "cell_type": "code",
   "execution_count": 71,
   "metadata": {},
   "outputs": [
    {
     "name": "stdout",
     "output_type": "stream",
     "text": [
      "              precision    recall  f1-score   support\n",
      "\n",
      "           0       0.92      0.94      0.93      2044\n",
      "           1       0.65      0.57      0.60       369\n",
      "\n",
      "    accuracy                           0.89      2413\n",
      "   macro avg       0.79      0.76      0.77      2413\n",
      "weighted avg       0.88      0.89      0.88      2413\n",
      "\n"
     ]
    }
   ],
   "source": [
    "print(classification_report(y_test, predictions))"
   ]
  },
  {
   "cell_type": "code",
   "execution_count": 72,
   "metadata": {},
   "outputs": [
    {
     "data": {
      "image/png": "[encoded data removed]",
      "text/plain": [
       "<Figure size 432x288 with 1 Axes>"
      ]
     },
     "metadata": {},
     "output_type": "display_data"
    }
   ],
   "source": [
    "fpr, tpr, thresholds = metrics.roc_curve(y_test, predictions)\n",
    "roc_auc = metrics.auc(fpr, tpr)\n",
    "roc_auc_lrcv = roc_auc\n",
    "\n",
    "plt.title('Receiver Operating Characteristic')\n",
    "plt.plot(fpr, tpr, 'b', label = 'AUC = %0.2f' % roc_auc)\n",
    "plt.legend(loc = 'lower right')\n",
    "plt.plot([0, 1], [0, 1],'r--')\n",
    "plt.xlim([0, 1])\n",
    "plt.ylim([0, 1])\n",
    "plt.ylabel('True Positive Rate')\n",
    "plt.xlabel('False Positive Rate')\n",
    "plt.show()"
   ]
  },
  {
   "cell_type": "markdown",
   "metadata": {},
   "source": [
    "## Regularization"
   ]
  },
  {
   "cell_type": "code",
   "execution_count": 73,
   "metadata": {},
   "outputs": [
    {
     "data": {
      "text/plain": [
       "Lasso(alpha=0.25, copy_X=True, fit_intercept=True, max_iter=1000,\n",
       "      normalize=False, positive=False, precompute=False, random_state=None,\n",
       "      selection='cyclic', tol=0.0001, warm_start=False)"
      ]
     },
     "execution_count": 73,
     "metadata": {},
     "output_type": "execute_result"
    }
   ],
   "source": [
    "from sklearn import linear_model\n",
    "\n",
    "alpha = 0.25 # increasing alpha can shrink more variable coefficients down to 0\n",
    "clf = linear_model.Lasso(alpha = alpha)\n",
    "clf.fit(X_train, y_train)"
   ]
  },
  {
   "cell_type": "code",
   "execution_count": 74,
   "metadata": {},
   "outputs": [
    {
     "data": {
      "text/plain": [
       "array([ 0.00000000e+00,  8.56198563e-05, -0.00000000e+00,  3.44828602e-05,\n",
       "        6.77776473e-04,  2.82509305e-05, -0.00000000e+00, -0.00000000e+00,\n",
       "        8.80934664e-03, -0.00000000e+00, -0.00000000e+00, -0.00000000e+00,\n",
       "       -0.00000000e+00, -0.00000000e+00, -0.00000000e+00, -0.00000000e+00,\n",
       "       -0.00000000e+00, -0.00000000e+00, -0.00000000e+00, -0.00000000e+00,\n",
       "       -0.00000000e+00, -0.00000000e+00, -0.00000000e+00, -0.00000000e+00,\n",
       "       -0.00000000e+00, -0.00000000e+00, -0.00000000e+00, -0.00000000e+00,\n",
       "       -0.00000000e+00, -0.00000000e+00, -0.00000000e+00, -0.00000000e+00,\n",
       "       -0.00000000e+00, -0.00000000e+00, -0.00000000e+00, -0.00000000e+00,\n",
       "       -0.00000000e+00, -0.00000000e+00, -0.00000000e+00, -0.00000000e+00,\n",
       "       -0.00000000e+00, -0.00000000e+00, -0.00000000e+00, -0.00000000e+00,\n",
       "       -0.00000000e+00, -0.00000000e+00, -0.00000000e+00, -0.00000000e+00,\n",
       "       -0.00000000e+00, -0.00000000e+00, -0.00000000e+00, -0.00000000e+00,\n",
       "       -0.00000000e+00, -0.00000000e+00, -0.00000000e+00, -0.00000000e+00,\n",
       "       -0.00000000e+00, -0.00000000e+00, -0.00000000e+00, -0.00000000e+00,\n",
       "       -0.00000000e+00,  0.00000000e+00, -0.00000000e+00, -0.00000000e+00,\n",
       "       -0.00000000e+00, -0.00000000e+00, -0.00000000e+00, -0.00000000e+00,\n",
       "       -0.00000000e+00, -0.00000000e+00, -0.00000000e+00, -0.00000000e+00,\n",
       "       -0.00000000e+00, -0.00000000e+00])"
      ]
     },
     "execution_count": 74,
     "metadata": {},
     "output_type": "execute_result"
    }
   ],
   "source": [
    "clf.coef_"
   ]
  },
  {
   "cell_type": "markdown",
   "metadata": {},
   "source": [
    "So these are the coefficients for the model.when we do L1 regularization we're taking like the absolute value of A plus the absolute value of b zero plus blah.And you're saying that this some needs to be below some kind of threshold and what the threshold is is controlled by the regularization parameter. "
   ]
  },
  {
   "cell_type": "code",
   "execution_count": 75,
   "metadata": {},
   "outputs": [
    {
     "data": {
      "image/png": "[encoded data removed]",
      "text/plain": [
       "<Figure size 432x288 with 1 Axes>"
      ]
     },
     "metadata": {},
     "output_type": "display_data"
    }
   ],
   "source": [
    "dd = pd.DataFrame({'col': X_train.columns, 'coef': clf.coef_})\n",
    "ax = sns.barplot(x = 'col', y = 'coef', data = dd)"
   ]
  },
  {
   "cell_type": "markdown",
   "metadata": {},
   "source": [
    "We can plot the coefficients of the model we trained using a barplot. Notice how some of the coefficients are zero, meaning they were effectively dropped out of the model."
   ]
  },
  {
   "cell_type": "markdown",
   "metadata": {},
   "source": [
    "I saw the result of one model using alpha = 0.25. Now let's see what happens when I train many models with different values for alpha. To keep track of it all, I created a DataFrame where I store the choice of alpha I used and the model's coefficients."
   ]
  },
  {
   "cell_type": "code",
   "execution_count": 76,
   "metadata": {},
   "outputs": [],
   "source": [
    "results = pd.DataFrame(columns = ['alpha', 'col', 'coef'])\n",
    "\n",
    "for alpha in np.arange(0.01, 5, .01):\n",
    "    clf = linear_model.Lasso(alpha = alpha)\n",
    "    clf.fit(X_train, y_train)\n",
    "    dd = pd.DataFrame({'col': X_train.columns, 'coef': clf.coef_})\n",
    "    dd['alpha'] = alpha\n",
    "    results = results.append(dd, sort = False)"
   ]
  },
  {
   "cell_type": "code",
   "execution_count": 77,
   "metadata": {},
   "outputs": [
    {
     "data": {
      "text/html": [
       "<div>\n",
       "<style scoped>\n",
       "    .dataframe tbody tr th:only-of-type {\n",
       "        vertical-align: middle;\n",
       "    }\n",
       "\n",
       "    .dataframe tbody tr th {\n",
       "        vertical-align: top;\n",
       "    }\n",
       "\n",
       "    .dataframe thead th {\n",
       "        text-align: right;\n",
       "    }\n",
       "</style>\n",
       "<table border=\"1\" class=\"dataframe\">\n",
       "  <thead>\n",
       "    <tr style=\"text-align: right;\">\n",
       "      <th></th>\n",
       "      <th>alpha</th>\n",
       "      <th>col</th>\n",
       "      <th>coef</th>\n",
       "    </tr>\n",
       "  </thead>\n",
       "  <tbody>\n",
       "    <tr>\n",
       "      <th>0</th>\n",
       "      <td>0.01</td>\n",
       "      <td>administrative</td>\n",
       "      <td>0.003145</td>\n",
       "    </tr>\n",
       "    <tr>\n",
       "      <th>1</th>\n",
       "      <td>0.01</td>\n",
       "      <td>administrative_duration</td>\n",
       "      <td>0.000033</td>\n",
       "    </tr>\n",
       "    <tr>\n",
       "      <th>2</th>\n",
       "      <td>0.01</td>\n",
       "      <td>informational</td>\n",
       "      <td>-0.000000</td>\n",
       "    </tr>\n",
       "    <tr>\n",
       "      <th>3</th>\n",
       "      <td>0.01</td>\n",
       "      <td>informational_duration</td>\n",
       "      <td>0.000045</td>\n",
       "    </tr>\n",
       "    <tr>\n",
       "      <th>4</th>\n",
       "      <td>0.01</td>\n",
       "      <td>productrelated</td>\n",
       "      <td>0.000845</td>\n",
       "    </tr>\n",
       "  </tbody>\n",
       "</table>\n",
       "</div>"
      ],
      "text/plain": [
       "   alpha                      col      coef\n",
       "0   0.01           administrative  0.003145\n",
       "1   0.01  administrative_duration  0.000033\n",
       "2   0.01            informational -0.000000\n",
       "3   0.01   informational_duration  0.000045\n",
       "4   0.01           productrelated  0.000845"
      ]
     },
     "execution_count": 77,
     "metadata": {},
     "output_type": "execute_result"
    }
   ],
   "source": [
    "results.head()"
   ]
  },
  {
   "cell_type": "code",
   "execution_count": 78,
   "metadata": {},
   "outputs": [],
   "source": [
    "results['abs_coef'] = abs(results['coef'])"
   ]
  },
  {
   "cell_type": "code",
   "execution_count": 79,
   "metadata": {},
   "outputs": [],
   "source": [
    "results = results.sort_values(by = 'abs_coef', ascending=False)"
   ]
  },
  {
   "cell_type": "code",
   "execution_count": 80,
   "metadata": {},
   "outputs": [
    {
     "data": {
      "text/html": [
       "<div>\n",
       "<style scoped>\n",
       "    .dataframe tbody tr th:only-of-type {\n",
       "        vertical-align: middle;\n",
       "    }\n",
       "\n",
       "    .dataframe tbody tr th {\n",
       "        vertical-align: top;\n",
       "    }\n",
       "\n",
       "    .dataframe thead th {\n",
       "        text-align: right;\n",
       "    }\n",
       "</style>\n",
       "<table border=\"1\" class=\"dataframe\">\n",
       "  <thead>\n",
       "    <tr style=\"text-align: right;\">\n",
       "      <th></th>\n",
       "      <th>alpha</th>\n",
       "      <th>col</th>\n",
       "      <th>coef</th>\n",
       "      <th>abs_coef</th>\n",
       "    </tr>\n",
       "  </thead>\n",
       "  <tbody>\n",
       "    <tr>\n",
       "      <th>39</th>\n",
       "      <td>0.01</td>\n",
       "      <td>operatingsystems_3</td>\n",
       "      <td>-0.229315</td>\n",
       "      <td>0.229315</td>\n",
       "    </tr>\n",
       "    <tr>\n",
       "      <th>17</th>\n",
       "      <td>0.01</td>\n",
       "      <td>month_May</td>\n",
       "      <td>-0.179170</td>\n",
       "      <td>0.179170</td>\n",
       "    </tr>\n",
       "    <tr>\n",
       "      <th>12</th>\n",
       "      <td>0.01</td>\n",
       "      <td>month_Dec</td>\n",
       "      <td>-0.145366</td>\n",
       "      <td>0.145366</td>\n",
       "    </tr>\n",
       "    <tr>\n",
       "      <th>37</th>\n",
       "      <td>0.01</td>\n",
       "      <td>operatingsystems_1</td>\n",
       "      <td>-0.141664</td>\n",
       "      <td>0.141664</td>\n",
       "    </tr>\n",
       "    <tr>\n",
       "      <th>38</th>\n",
       "      <td>0.01</td>\n",
       "      <td>operatingsystems_2</td>\n",
       "      <td>-0.137535</td>\n",
       "      <td>0.137535</td>\n",
       "    </tr>\n",
       "    <tr>\n",
       "      <th>...</th>\n",
       "      <td>...</td>\n",
       "      <td>...</td>\n",
       "      <td>...</td>\n",
       "      <td>...</td>\n",
       "    </tr>\n",
       "    <tr>\n",
       "      <th>26</th>\n",
       "      <td>1.72</td>\n",
       "      <td>browser_3</td>\n",
       "      <td>-0.000000</td>\n",
       "      <td>0.000000</td>\n",
       "    </tr>\n",
       "    <tr>\n",
       "      <th>25</th>\n",
       "      <td>1.72</td>\n",
       "      <td>browser_2</td>\n",
       "      <td>-0.000000</td>\n",
       "      <td>0.000000</td>\n",
       "    </tr>\n",
       "    <tr>\n",
       "      <th>24</th>\n",
       "      <td>1.72</td>\n",
       "      <td>browser_1</td>\n",
       "      <td>-0.000000</td>\n",
       "      <td>0.000000</td>\n",
       "    </tr>\n",
       "    <tr>\n",
       "      <th>23</th>\n",
       "      <td>1.72</td>\n",
       "      <td>visitortype_Returning_Visitor</td>\n",
       "      <td>-0.000000</td>\n",
       "      <td>0.000000</td>\n",
       "    </tr>\n",
       "    <tr>\n",
       "      <th>73</th>\n",
       "      <td>4.99</td>\n",
       "      <td>region_9</td>\n",
       "      <td>-0.000000</td>\n",
       "      <td>0.000000</td>\n",
       "    </tr>\n",
       "  </tbody>\n",
       "</table>\n",
       "<p>36926 rows × 4 columns</p>\n",
       "</div>"
      ],
      "text/plain": [
       "    alpha                            col      coef  abs_coef\n",
       "39   0.01             operatingsystems_3 -0.229315  0.229315\n",
       "17   0.01                      month_May -0.179170  0.179170\n",
       "12   0.01                      month_Dec -0.145366  0.145366\n",
       "37   0.01             operatingsystems_1 -0.141664  0.141664\n",
       "38   0.01             operatingsystems_2 -0.137535  0.137535\n",
       "..    ...                            ...       ...       ...\n",
       "26   1.72                      browser_3 -0.000000  0.000000\n",
       "25   1.72                      browser_2 -0.000000  0.000000\n",
       "24   1.72                      browser_1 -0.000000  0.000000\n",
       "23   1.72  visitortype_Returning_Visitor -0.000000  0.000000\n",
       "73   4.99                       region_9 -0.000000  0.000000\n",
       "\n",
       "[36926 rows x 4 columns]"
      ]
     },
     "execution_count": 80,
     "metadata": {},
     "output_type": "execute_result"
    }
   ],
   "source": [
    "results"
   ]
  },
  {
   "cell_type": "code",
   "execution_count": 81,
   "metadata": {},
   "outputs": [
    {
     "data": {
      "text/plain": [
       "alpha\n",
       "0.01    [0.22931463221568135, 0.17917016807793146, 0.1...\n",
       "0.02    [0.11578895117195293, 0.08743004292993076, 0.0...\n",
       "0.03    [0.058973365036741, 0.03905238679038565, 0.026...\n",
       "0.04    [0.009144906397039966, 0.0010959241643403485, ...\n",
       "0.05    [0.009128989545488499, 0.0010868625398443525, ...\n",
       "                              ...                        \n",
       "4.95    [0.001593490571201894, 4.2933947439851186e-05,...\n",
       "4.96    [0.0015781598680095707, 4.292729545096988e-05,...\n",
       "4.97    [0.0015628291648172488, 4.2920643462088566e-05...\n",
       "4.98    [0.0015474984616249243, 4.291399147320725e-05,...\n",
       "4.99    [0.0015321677584326009, 4.2907339484325946e-05...\n",
       "Name: abs_coef, Length: 499, dtype: object"
      ]
     },
     "execution_count": 81,
     "metadata": {},
     "output_type": "execute_result"
    }
   ],
   "source": [
    "results.groupby('alpha')['abs_coef'].apply(list)"
   ]
  },
  {
   "cell_type": "code",
   "execution_count": null,
   "metadata": {},
   "outputs": [],
   "source": []
  },
  {
   "cell_type": "markdown",
   "metadata": {},
   "source": [
    "I can plot the value of coefficients against alpha to see what happens to the coefficents as we increase the shrinkage constant alpha."
   ]
  },
  {
   "cell_type": "code",
   "execution_count": 82,
   "metadata": {},
   "outputs": [
    {
     "data": {
      "image/png": "[encoded data removed]",
      "text/plain": [
       "<Figure size 432x288 with 1 Axes>"
      ]
     },
     "metadata": {},
     "output_type": "display_data"
    }
   ],
   "source": [
    "ax = sns.lineplot(x = 'alpha', y = 'coef', hue = 'col', data = results)\n",
    "ax.set(ylim = (-0.3, 0.1))\n",
    "ax.legend(loc = 'center right', bbox_to_anchor = (1.5, 0.5), ncol = 1);"
   ]
  },
  {
   "cell_type": "markdown",
   "metadata": {},
   "source": [
    "So what this plot is showing is basically saying that, if you start with alpha equals zero and you increase alpha to five.That's the same as saying, I'm going to start with no regularization to more and more regularization as I move to the right. And then on the Y axis, I see the actual value for the coefficients of all of the features in the data.So as I move from left to right.drifting towards zero. And eventually, the more regularization, we do the more coefficient zero out. the advantage of L1. It does feature selection.We just regularized and because we use a one regularization, it has this nice property that some coefficients that are less important drift toward zero earlier than the ones that are more important."
   ]
  },
  {
   "cell_type": "markdown",
   "metadata": {},
   "source": [
    "## Random forest "
   ]
  },
  {
   "cell_type": "markdown",
   "metadata": {},
   "source": [
    "So random forest classifier is a bagging classifier that uses a decision tree as the base learner."
   ]
  },
  {
   "cell_type": "code",
   "execution_count": 86,
   "metadata": {},
   "outputs": [],
   "source": [
    "from sklearn.ensemble import RandomForestClassifier\n",
    "\n",
    "# hypers = {\"n_estimators\": 100, \"max_features\": \"sqrt\", \"max_depth\": 20, \"min_samples_leaf\": 10}\n",
    "# clf_rf = RandomForestClassifier(random_state = 0, verbose = True, **hypers)"
   ]
  },
  {
   "cell_type": "code",
   "execution_count": 91,
   "metadata": {},
   "outputs": [],
   "source": [
    "clf_rf = RandomForestClassifier(bootstrap=False, ccp_alpha=0.0, class_weight=None,\n",
    "                       criterion='entropy', max_depth=18, max_features=9,\n",
    "                       max_leaf_nodes=None, max_samples=None,\n",
    "                       min_impurity_decrease=0.0, min_impurity_split=None,\n",
    "                       min_samples_leaf=10, min_samples_split=6,\n",
    "                       min_weight_fraction_leaf=0.0, n_estimators=100,\n",
    "                       n_jobs=None, oob_score=False, random_state=1, verbose=0,\n",
    "                       warm_start=False)"
   ]
  },
  {
   "cell_type": "code",
   "execution_count": null,
   "metadata": {},
   "outputs": [],
   "source": []
  },
  {
   "cell_type": "code",
   "execution_count": 92,
   "metadata": {},
   "outputs": [
    {
     "data": {
      "text/plain": [
       "RandomForestClassifier(bootstrap=False, ccp_alpha=0.0, class_weight=None,\n",
       "                       criterion='entropy', max_depth=18, max_features=9,\n",
       "                       max_leaf_nodes=None, max_samples=None,\n",
       "                       min_impurity_decrease=0.0, min_impurity_split=None,\n",
       "                       min_samples_leaf=10, min_samples_split=6,\n",
       "                       min_weight_fraction_leaf=0.0, n_estimators=100,\n",
       "                       n_jobs=None, oob_score=False, random_state=1, verbose=0,\n",
       "                       warm_start=False)"
      ]
     },
     "execution_count": 92,
     "metadata": {},
     "output_type": "execute_result"
    }
   ],
   "source": [
    "clf_rf.fit(X_train, y_train)"
   ]
  },
  {
   "cell_type": "markdown",
   "metadata": {},
   "source": [
    "If you see a message about using a sequential backend, it's because a random forest is an algorithm that can easily run in parallel by just training many trees concurrently."
   ]
  },
  {
   "cell_type": "markdown",
   "metadata": {},
   "source": [
    "One by product of tree-based models is that they provide us with a list showing the relative importance of each feature to the model. So even if we're not interested in the trained model the random forest returns, we can still use it for **feature selection**: namely train the random forest on the whole data to get the top $n$ most important features and later pass only those features to another algorithm we wish to use to train a model. Note that because we one-hot-encoded the data, a feature here is not just one of the categorical columns, but each category of each categorical column is its own feature. We can find the feature importance values in `clf_rf.feature_importances_`."
   ]
  },
  {
   "cell_type": "code",
   "execution_count": null,
   "metadata": {},
   "outputs": [],
   "source": [
    "import pickle\n",
    "from joblib import dump, load\n",
    "dump(clf_rf, 'clf_rf.joblib') \n",
    "clf_rf = load('clf_rf.joblib') "
   ]
  },
  {
   "cell_type": "code",
   "execution_count": 53,
   "metadata": {},
   "outputs": [
    {
     "data": {
      "text/plain": [
       "74"
      ]
     },
     "execution_count": 53,
     "metadata": {},
     "output_type": "execute_result"
    }
   ],
   "source": [
    "len(clf_rf.feature_importances_)"
   ]
  },
  {
   "cell_type": "markdown",
   "metadata": {},
   "source": [
    "Let's store the feature importance values in a `DataFrame` and use `seaborn` to visualize the top 10."
   ]
  },
  {
   "cell_type": "code",
   "execution_count": 56,
   "metadata": {},
   "outputs": [
    {
     "data": {
      "image/png": "[encoded data removed]",
      "text/plain": [
       "<Figure size 432x288 with 1 Axes>"
      ]
     },
     "metadata": {},
     "output_type": "display_data"
    }
   ],
   "source": [
    "df_var_imp = pd.DataFrame({\"feature\": X_train.columns, \n",
    "                           \"importance\": clf_rf.feature_importances_})\n",
    "df_var_imp.sort_values(by = \"importance\", ascending = False, inplace = True)\n",
    "\n",
    "import seaborn as sns\n",
    "ax = sns.barplot(x = \"importance\", y = \"feature\", data = df_var_imp.head(12), color = \"lightblue\")"
   ]
  },
  {
   "cell_type": "markdown",
   "metadata": {},
   "source": [
    "To get predictions from the trained model, we simply call the `predict` method and pass it the data. To check if we're overfitting or not, we can get predictions for both the training and the test data. Once we have the predictions, we can call the `accuracy_score` function to get the accuracy on the training and test data, assuming that accuracy is a good metric to use here.\n",
    "\n"
   ]
  },
  {
   "cell_type": "code",
   "execution_count": 57,
   "metadata": {},
   "outputs": [],
   "source": [
    "Y_hat_train = clf_rf.predict(X_train)\n",
    "Y_hat_test = clf_rf.predict(X_test)"
   ]
  },
  {
   "cell_type": "code",
   "execution_count": 58,
   "metadata": {},
   "outputs": [],
   "source": [
    "from sklearn.metrics import accuracy_score\n",
    "acc_train = accuracy_score(y_train, Y_hat_train)\n",
    "acc_test = accuracy_score(y_test, Y_hat_test)"
   ]
  },
  {
   "cell_type": "code",
   "execution_count": 59,
   "metadata": {},
   "outputs": [
    {
     "data": {
      "text/plain": [
       "0.8951678951678952"
      ]
     },
     "execution_count": 59,
     "metadata": {},
     "output_type": "execute_result"
    }
   ],
   "source": [
    "acc_test"
   ]
  },
  {
   "cell_type": "code",
   "execution_count": 60,
   "metadata": {},
   "outputs": [
    {
     "data": {
      "text/plain": [
       "0.9542313288069835"
      ]
     },
     "execution_count": 60,
     "metadata": {},
     "output_type": "execute_result"
    }
   ],
   "source": [
    "acc_train"
   ]
  },
  {
   "cell_type": "markdown",
   "metadata": {},
   "source": [
    "I will store some important results in a table we call `results`. If this table doesn't exist (first time we run it) it will initialized by the code below."
   ]
  },
  {
   "cell_type": "code",
   "execution_count": 393,
   "metadata": {},
   "outputs": [
    {
     "name": "stdout",
     "output_type": "stream",
     "text": [
      "              precision    recall  f1-score   support\n",
      "\n",
      "           0       0.94      0.93      0.94      2053\n",
      "           1       0.64      0.70      0.67       376\n",
      "\n",
      "    accuracy                           0.89      2429\n",
      "   macro avg       0.79      0.81      0.80      2429\n",
      "weighted avg       0.90      0.89      0.90      2429\n",
      "\n"
     ]
    }
   ],
   "source": [
    "print(classification_report(y_test, Y_hat_test))"
   ]
  },
  {
   "cell_type": "code",
   "execution_count": 394,
   "metadata": {},
   "outputs": [
    {
     "data": {
      "image/png": "[encoded data removed]",
      "text/plain": [
       "<Figure size 432x288 with 1 Axes>"
      ]
     },
     "metadata": {},
     "output_type": "display_data"
    }
   ],
   "source": [
    "fpr, tpr, thresholds = metrics.roc_curve(y_test, Y_hat_test)\n",
    "roc_auc = metrics.auc(fpr, tpr)\n",
    "roc_auc_rf, fpr_rf, tpr_rf, thresholds_rf = roc_auc, fpr, tpr, thresholds\n",
    "\n",
    "plt.title('Receiver Operating Characteristic')\n",
    "plt.plot(fpr, tpr, 'b', label = 'AUC = %0.2f' % roc_auc)\n",
    "plt.legend(loc = 'lower right')\n",
    "plt.plot([0, 1], [0, 1],'r--')\n",
    "plt.xlim([0, 1])\n",
    "plt.ylim([0, 1])\n",
    "plt.ylabel('True Positive Rate')\n",
    "plt.xlabel('False Positive Rate')\n",
    "plt.show()"
   ]
  },
  {
   "cell_type": "code",
   "execution_count": 395,
   "metadata": {},
   "outputs": [],
   "source": [
    "#try:\n",
    "    #results # checks if this object exists or not\n",
    "#except NameError:\n",
    "    #results = pd.DataFrame(columns = [\"algo\", \"acc_train\", \"acc_test\"]) # initiates it"
   ]
  },
  {
   "cell_type": "code",
   "execution_count": 396,
   "metadata": {},
   "outputs": [],
   "source": [
    "#model_name = str(clf_rf.__class__).split('.')[-1].strip(\"\\\"\\'>\")\n",
    "#results.loc[len(results), 0:3] = [model_name, acc_train, acc_test]\n",
    "\n",
    "#for hp in hypers.keys():\n",
    "    #results.loc[len(results) - 1, hp] = hypers[hp]"
   ]
  },
  {
   "cell_type": "code",
   "execution_count": null,
   "metadata": {},
   "outputs": [],
   "source": []
  },
  {
   "cell_type": "markdown",
   "metadata": {},
   "source": [
    "## Random forest with selected features"
   ]
  },
  {
   "cell_type": "markdown",
   "metadata": {},
   "source": [
    "So random forest classifier is a bagging classifier that uses a decision tree as the base learner."
   ]
  },
  {
   "cell_type": "code",
   "execution_count": 95,
   "metadata": {},
   "outputs": [],
   "source": [
    "from sklearn.ensemble import RandomForestClassifier\n",
    "\n",
    "# hypers = {\"n_estimators\": 100, \"max_features\": \"sqrt\", \"max_depth\": 20, \"min_samples_leaf\": 10}\n",
    "# clf_rf = RandomForestClassifier(random_state = 0, verbose = True, **hypers)"
   ]
  },
  {
   "cell_type": "code",
   "execution_count": 104,
   "metadata": {},
   "outputs": [],
   "source": [
    "clf_rf_f = RandomForestClassifier(bootstrap=False, ccp_alpha=0.0, class_weight=None,\n",
    "                       criterion='entropy', max_depth=18\n",
    "                                  ######\n",
    "                                  , max_features=2,\n",
    "                       ########\n",
    "                                  \n",
    "                                  max_leaf_nodes=None, max_samples=None,\n",
    "                       min_impurity_decrease=0.0, min_impurity_split=None,\n",
    "                       min_samples_leaf=10, min_samples_split=6,\n",
    "                       min_weight_fraction_leaf=0.0, n_estimators=100,\n",
    "                       n_jobs=None, oob_score=False, random_state=1, verbose=0,\n",
    "                       warm_start=False)"
   ]
  },
  {
   "cell_type": "code",
   "execution_count": 105,
   "metadata": {},
   "outputs": [
    {
     "data": {
      "text/plain": [
       "0        0\n",
       "1        0\n",
       "2        0\n",
       "3        0\n",
       "4        0\n",
       "        ..\n",
       "16501    1\n",
       "16502    1\n",
       "16503    1\n",
       "16504    1\n",
       "16505    1\n",
       "Name: revenue, Length: 16506, dtype: int64"
      ]
     },
     "execution_count": 105,
     "metadata": {},
     "output_type": "execute_result"
    }
   ],
   "source": [
    "y_train"
   ]
  },
  {
   "cell_type": "code",
   "execution_count": 106,
   "metadata": {},
   "outputs": [],
   "source": [
    "X_train_f = X_train[['pagevalues','exitrates']]\n",
    "y_train_f = y_train"
   ]
  },
  {
   "cell_type": "code",
   "execution_count": 107,
   "metadata": {},
   "outputs": [
    {
     "data": {
      "text/plain": [
       "RandomForestClassifier(bootstrap=False, ccp_alpha=0.0, class_weight=None,\n",
       "                       criterion='entropy', max_depth=18, max_features=2,\n",
       "                       max_leaf_nodes=None, max_samples=None,\n",
       "                       min_impurity_decrease=0.0, min_impurity_split=None,\n",
       "                       min_samples_leaf=10, min_samples_split=6,\n",
       "                       min_weight_fraction_leaf=0.0, n_estimators=100,\n",
       "                       n_jobs=None, oob_score=False, random_state=1, verbose=0,\n",
       "                       warm_start=False)"
      ]
     },
     "execution_count": 107,
     "metadata": {},
     "output_type": "execute_result"
    }
   ],
   "source": [
    "clf_rf_f.fit(X_train_f,y_train_f)"
   ]
  },
  {
   "cell_type": "code",
   "execution_count": null,
   "metadata": {},
   "outputs": [],
   "source": []
  },
  {
   "cell_type": "code",
   "execution_count": null,
   "metadata": {},
   "outputs": [],
   "source": []
  },
  {
   "cell_type": "code",
   "execution_count": null,
   "metadata": {},
   "outputs": [],
   "source": []
  },
  {
   "cell_type": "code",
   "execution_count": null,
   "metadata": {},
   "outputs": [],
   "source": []
  },
  {
   "cell_type": "code",
   "execution_count": null,
   "metadata": {},
   "outputs": [],
   "source": []
  },
  {
   "cell_type": "code",
   "execution_count": null,
   "metadata": {},
   "outputs": [],
   "source": []
  },
  {
   "cell_type": "code",
   "execution_count": null,
   "metadata": {},
   "outputs": [],
   "source": []
  },
  {
   "cell_type": "code",
   "execution_count": null,
   "metadata": {},
   "outputs": [],
   "source": []
  },
  {
   "cell_type": "code",
   "execution_count": 108,
   "metadata": {},
   "outputs": [],
   "source": [
    "import pickle\n",
    "from joblib import dump, load\n",
    "dump(clf_rf_f, 'clf_rf_f.joblib') \n",
    "clf_rf_f = load('clf_rf_f.joblib') "
   ]
  },
  {
   "cell_type": "code",
   "execution_count": null,
   "metadata": {},
   "outputs": [],
   "source": []
  },
  {
   "cell_type": "code",
   "execution_count": null,
   "metadata": {},
   "outputs": [],
   "source": []
  },
  {
   "cell_type": "code",
   "execution_count": null,
   "metadata": {},
   "outputs": [],
   "source": []
  },
  {
   "cell_type": "code",
   "execution_count": null,
   "metadata": {},
   "outputs": [],
   "source": []
  },
  {
   "cell_type": "code",
   "execution_count": null,
   "metadata": {},
   "outputs": [],
   "source": []
  },
  {
   "cell_type": "code",
   "execution_count": 57,
   "metadata": {},
   "outputs": [],
   "source": [
    "Y_hat_train = clf_rf.predict(X_train_f)\n",
    "Y_hat_test = clf_rf.predict(X_test)"
   ]
  },
  {
   "cell_type": "code",
   "execution_count": 58,
   "metadata": {},
   "outputs": [],
   "source": [
    "from sklearn.metrics import accuracy_score\n",
    "acc_train = accuracy_score(y_train, Y_hat_train)\n",
    "acc_test = accuracy_score(y_test, Y_hat_test)"
   ]
  },
  {
   "cell_type": "code",
   "execution_count": 59,
   "metadata": {},
   "outputs": [
    {
     "data": {
      "text/plain": [
       "0.8951678951678952"
      ]
     },
     "execution_count": 59,
     "metadata": {},
     "output_type": "execute_result"
    }
   ],
   "source": [
    "acc_test"
   ]
  },
  {
   "cell_type": "code",
   "execution_count": 60,
   "metadata": {},
   "outputs": [
    {
     "data": {
      "text/plain": [
       "0.9542313288069835"
      ]
     },
     "execution_count": 60,
     "metadata": {},
     "output_type": "execute_result"
    }
   ],
   "source": [
    "acc_train"
   ]
  },
  {
   "cell_type": "markdown",
   "metadata": {},
   "source": [
    "I will store some important results in a table we call `results`. If this table doesn't exist (first time we run it) it will initialized by the code below."
   ]
  },
  {
   "cell_type": "code",
   "execution_count": 393,
   "metadata": {},
   "outputs": [
    {
     "name": "stdout",
     "output_type": "stream",
     "text": [
      "              precision    recall  f1-score   support\n",
      "\n",
      "           0       0.94      0.93      0.94      2053\n",
      "           1       0.64      0.70      0.67       376\n",
      "\n",
      "    accuracy                           0.89      2429\n",
      "   macro avg       0.79      0.81      0.80      2429\n",
      "weighted avg       0.90      0.89      0.90      2429\n",
      "\n"
     ]
    }
   ],
   "source": [
    "print(classification_report(y_test, Y_hat_test))"
   ]
  },
  {
   "cell_type": "code",
   "execution_count": 394,
   "metadata": {},
   "outputs": [
    {
     "data": {
      "image/png": "[encoded data removed]",
      "text/plain": [
       "<Figure size 432x288 with 1 Axes>"
      ]
     },
     "metadata": {},
     "output_type": "display_data"
    }
   ],
   "source": [
    "fpr, tpr, thresholds = metrics.roc_curve(y_test, Y_hat_test)\n",
    "roc_auc = metrics.auc(fpr, tpr)\n",
    "roc_auc_rf, fpr_rf, tpr_rf, thresholds_rf = roc_auc, fpr, tpr, thresholds\n",
    "\n",
    "plt.title('Receiver Operating Characteristic')\n",
    "plt.plot(fpr, tpr, 'b', label = 'AUC = %0.2f' % roc_auc)\n",
    "plt.legend(loc = 'lower right')\n",
    "plt.plot([0, 1], [0, 1],'r--')\n",
    "plt.xlim([0, 1])\n",
    "plt.ylim([0, 1])\n",
    "plt.ylabel('True Positive Rate')\n",
    "plt.xlabel('False Positive Rate')\n",
    "plt.show()"
   ]
  },
  {
   "cell_type": "code",
   "execution_count": 395,
   "metadata": {},
   "outputs": [],
   "source": [
    "#try:\n",
    "    #results # checks if this object exists or not\n",
    "#except NameError:\n",
    "    #results = pd.DataFrame(columns = [\"algo\", \"acc_train\", \"acc_test\"]) # initiates it"
   ]
  },
  {
   "cell_type": "code",
   "execution_count": 396,
   "metadata": {},
   "outputs": [],
   "source": [
    "#model_name = str(clf_rf.__class__).split('.')[-1].strip(\"\\\"\\'>\")\n",
    "#results.loc[len(results), 0:3] = [model_name, acc_train, acc_test]\n",
    "\n",
    "#for hp in hypers.keys():\n",
    "    #results.loc[len(results) - 1, hp] = hypers[hp]"
   ]
  },
  {
   "cell_type": "code",
   "execution_count": null,
   "metadata": {},
   "outputs": [],
   "source": []
  },
  {
   "cell_type": "code",
   "execution_count": null,
   "metadata": {},
   "outputs": [],
   "source": []
  },
  {
   "cell_type": "code",
   "execution_count": null,
   "metadata": {},
   "outputs": [],
   "source": []
  },
  {
   "cell_type": "code",
   "execution_count": null,
   "metadata": {},
   "outputs": [],
   "source": []
  },
  {
   "cell_type": "markdown",
   "metadata": {},
   "source": [
    "# Gradient boosted classifier"
   ]
  },
  {
   "cell_type": "markdown",
   "metadata": {},
   "source": [
    "Let's now train a gradient boosted classifier. Shrinkage is controlled by `learning_rate`.10% training data is used for validation."
   ]
  },
  {
   "cell_type": "code",
   "execution_count": 397,
   "metadata": {},
   "outputs": [],
   "source": [
    "from sklearn.ensemble import GradientBoostingClassifier\n",
    "\n",
    "hypers = {\"n_estimators\": 100, \"max_features\": \"sqrt\", \"max_depth\": 20, \"min_samples_leaf\": 10, \"learning_rate\": 0.5}\n",
    "clf_gb = GradientBoostingClassifier(loss = 'deviance', verbose = True, **hypers)"
   ]
  },
  {
   "cell_type": "markdown",
   "metadata": {},
   "source": [
    "One again we train the classifier by calling `fit`."
   ]
  },
  {
   "cell_type": "code",
   "execution_count": 398,
   "metadata": {
    "scrolled": true
   },
   "outputs": [
    {
     "name": "stdout",
     "output_type": "stream",
     "text": [
      "      Iter       Train Loss   Remaining Time \n",
      "         1           0.8465            4.59s\n",
      "         2           0.5747            5.13s\n",
      "         3           0.4280            5.02s\n",
      "         4           0.3326            4.91s\n",
      "         5           0.2712            5.04s\n",
      "         6           0.2242            4.98s\n",
      "         7           0.1880            4.93s\n",
      "         8           0.1623            4.93s\n",
      "         9           0.1422            4.84s\n",
      "        10           0.1207            4.79s\n",
      "        20           0.0337            4.08s\n",
      "        30           0.0102            3.51s\n",
      "        40           0.0031            2.98s\n",
      "        50           0.0010            2.45s\n",
      "        60           0.0004            1.90s\n",
      "        70           0.0002            1.31s\n",
      "        80           0.0002            0.77s\n",
      "        90           0.0002            0.34s\n",
      "       100           0.0002            0.00s\n"
     ]
    },
    {
     "data": {
      "text/plain": [
       "GradientBoostingClassifier(ccp_alpha=0.0, criterion='friedman_mse', init=None,\n",
       "                           learning_rate=0.5, loss='deviance', max_depth=20,\n",
       "                           max_features='sqrt', max_leaf_nodes=None,\n",
       "                           min_impurity_decrease=0.0, min_impurity_split=None,\n",
       "                           min_samples_leaf=10, min_samples_split=2,\n",
       "                           min_weight_fraction_leaf=0.0, n_estimators=100,\n",
       "                           n_iter_no_change=None, presort='deprecated',\n",
       "                           random_state=None, subsample=1.0, tol=0.0001,\n",
       "                           validation_fraction=0.1, verbose=True,\n",
       "                           warm_start=False)"
      ]
     },
     "execution_count": 398,
     "metadata": {},
     "output_type": "execute_result"
    }
   ],
   "source": [
    "clf_gb.fit(X_train, y_train)"
   ]
  },
  {
   "cell_type": "markdown",
   "metadata": {},
   "source": [
    "I display the variable importance plot for a gradient boosted classifier as well. The results should not look very different from using random forests."
   ]
  },
  {
   "cell_type": "code",
   "execution_count": 399,
   "metadata": {},
   "outputs": [
    {
     "data": {
      "image/png": "[encoded data removed]",
      "text/plain": [
       "<Figure size 432x288 with 1 Axes>"
      ]
     },
     "metadata": {},
     "output_type": "display_data"
    }
   ],
   "source": [
    "df_var_imp = pd.DataFrame({\"feature\": X_train.columns, \n",
    "                           \"importance\": clf_gb.feature_importances_})\n",
    "df_var_imp.sort_values(by = \"importance\", ascending = False, inplace = True)\n",
    "\n",
    "import seaborn as sns\n",
    "ax = sns.barplot(x = \"importance\", y = \"feature\", data = df_var_imp.head(10), color = \"lightblue\")"
   ]
  },
  {
   "cell_type": "markdown",
   "metadata": {},
   "source": [
    "7 features out of 10 are mutual between gradient boosted and ransom forest classifier"
   ]
  },
  {
   "cell_type": "markdown",
   "metadata": {},
   "source": [
    "I now score the training and test sets with the trained model from the previous step.and obtain accuracy scores in either case."
   ]
  },
  {
   "cell_type": "code",
   "execution_count": 400,
   "metadata": {},
   "outputs": [],
   "source": [
    "Y_hat_train = clf_gb.predict(X_train)\n",
    "Y_hat_test = clf_gb.predict(X_test)"
   ]
  },
  {
   "cell_type": "code",
   "execution_count": 401,
   "metadata": {},
   "outputs": [],
   "source": [
    "acc_train = accuracy_score(y_train, Y_hat_train)\n",
    "acc_test = accuracy_score(y_test, Y_hat_test)"
   ]
  },
  {
   "cell_type": "code",
   "execution_count": 402,
   "metadata": {},
   "outputs": [
    {
     "data": {
      "text/plain": [
       "0.8950185261424455"
      ]
     },
     "execution_count": 402,
     "metadata": {},
     "output_type": "execute_result"
    }
   ],
   "source": [
    "acc_test"
   ]
  },
  {
   "cell_type": "code",
   "execution_count": 403,
   "metadata": {},
   "outputs": [
    {
     "data": {
      "text/plain": [
       "1.0"
      ]
     },
     "execution_count": 403,
     "metadata": {},
     "output_type": "execute_result"
    }
   ],
   "source": [
    "acc_train "
   ]
  },
  {
   "cell_type": "code",
   "execution_count": 404,
   "metadata": {},
   "outputs": [
    {
     "name": "stdout",
     "output_type": "stream",
     "text": [
      "              precision    recall  f1-score   support\n",
      "\n",
      "           0       0.93      0.95      0.94      2053\n",
      "           1       0.68      0.62      0.65       376\n",
      "\n",
      "    accuracy                           0.90      2429\n",
      "   macro avg       0.80      0.78      0.79      2429\n",
      "weighted avg       0.89      0.90      0.89      2429\n",
      "\n"
     ]
    }
   ],
   "source": [
    "print(classification_report(y_test, Y_hat_test))"
   ]
  },
  {
   "cell_type": "code",
   "execution_count": 405,
   "metadata": {},
   "outputs": [
    {
     "data": {
      "image/png": "[encoded data removed]",
      "text/plain": [
       "<Figure size 432x288 with 1 Axes>"
      ]
     },
     "metadata": {},
     "output_type": "display_data"
    }
   ],
   "source": [
    "fpr, tpr, thresholds = metrics.roc_curve(y_test, Y_hat_test)\n",
    "roc_auc = metrics.auc(fpr, tpr)\n",
    "roc_auc_gbm, fpr_gbm, tpr_gbm, thresholds_gbm = roc_auc, fpr, tpr, thresholds\n",
    "\n",
    "plt.title('Receiver Operating Characteristic')\n",
    "plt.plot(fpr, tpr, 'b', label = 'AUC = %0.2f' % roc_auc)\n",
    "plt.legend(loc = 'lower right')\n",
    "plt.plot([0, 1], [0, 1],'r--')\n",
    "plt.xlim([0, 1])\n",
    "plt.ylim([0, 1])\n",
    "plt.ylabel('True Positive Rate')\n",
    "plt.xlabel('False Positive Rate')\n",
    "plt.show()"
   ]
  },
  {
   "cell_type": "code",
   "execution_count": null,
   "metadata": {},
   "outputs": [],
   "source": []
  },
  {
   "cell_type": "markdown",
   "metadata": {},
   "source": [
    "## SVM Classifier\n"
   ]
  },
  {
   "cell_type": "markdown",
   "metadata": {},
   "source": [
    "good for models with few data points, assume linear separability, wide margin classifier because it gives us the line of separation that has the widest margin"
   ]
  },
  {
   "cell_type": "markdown",
   "metadata": {},
   "source": [
    "we normalize our numeric features. It's important to normalize features when training an SVM algorithm."
   ]
  },
  {
   "cell_type": "code",
   "execution_count": 406,
   "metadata": {},
   "outputs": [
    {
     "data": {
      "text/html": [
       "<div>\n",
       "<style scoped>\n",
       "    .dataframe tbody tr th:only-of-type {\n",
       "        vertical-align: middle;\n",
       "    }\n",
       "\n",
       "    .dataframe tbody tr th {\n",
       "        vertical-align: top;\n",
       "    }\n",
       "\n",
       "    .dataframe thead th {\n",
       "        text-align: right;\n",
       "    }\n",
       "</style>\n",
       "<table border=\"1\" class=\"dataframe\">\n",
       "  <thead>\n",
       "    <tr style=\"text-align: right;\">\n",
       "      <th></th>\n",
       "      <th>administrative</th>\n",
       "      <th>administrative_duration</th>\n",
       "      <th>informational</th>\n",
       "      <th>informational_duration</th>\n",
       "      <th>productrelated</th>\n",
       "      <th>productrelated_duration</th>\n",
       "      <th>bouncerates</th>\n",
       "      <th>exitrates</th>\n",
       "      <th>pagevalues</th>\n",
       "      <th>specialday</th>\n",
       "      <th>...</th>\n",
       "      <th>traffictype_20</th>\n",
       "      <th>region_1</th>\n",
       "      <th>region_2</th>\n",
       "      <th>region_3</th>\n",
       "      <th>region_4</th>\n",
       "      <th>region_5</th>\n",
       "      <th>region_6</th>\n",
       "      <th>region_7</th>\n",
       "      <th>region_8</th>\n",
       "      <th>region_9</th>\n",
       "    </tr>\n",
       "  </thead>\n",
       "  <tbody>\n",
       "    <tr>\n",
       "      <th>0</th>\n",
       "      <td>-0.779483</td>\n",
       "      <td>-0.522495</td>\n",
       "      <td>-0.416345</td>\n",
       "      <td>-0.283529</td>\n",
       "      <td>-0.716134</td>\n",
       "      <td>-0.684429</td>\n",
       "      <td>-0.391279</td>\n",
       "      <td>1.761225</td>\n",
       "      <td>-0.523998</td>\n",
       "      <td>-0.279161</td>\n",
       "      <td>...</td>\n",
       "      <td>-0.099613</td>\n",
       "      <td>1.546801</td>\n",
       "      <td>-0.249331</td>\n",
       "      <td>-0.385265</td>\n",
       "      <td>-0.252608</td>\n",
       "      <td>-0.130237</td>\n",
       "      <td>-0.203394</td>\n",
       "      <td>-0.197004</td>\n",
       "      <td>-0.147483</td>\n",
       "      <td>-0.164225</td>\n",
       "    </tr>\n",
       "    <tr>\n",
       "      <th>1</th>\n",
       "      <td>-0.779483</td>\n",
       "      <td>-0.522495</td>\n",
       "      <td>-0.416345</td>\n",
       "      <td>-0.283529</td>\n",
       "      <td>-0.735984</td>\n",
       "      <td>-0.715860</td>\n",
       "      <td>5.131169</td>\n",
       "      <td>4.378259</td>\n",
       "      <td>-0.523998</td>\n",
       "      <td>-0.279161</td>\n",
       "      <td>...</td>\n",
       "      <td>-0.099613</td>\n",
       "      <td>-0.646496</td>\n",
       "      <td>-0.249331</td>\n",
       "      <td>-0.385265</td>\n",
       "      <td>-0.252608</td>\n",
       "      <td>-0.130237</td>\n",
       "      <td>-0.203394</td>\n",
       "      <td>-0.197004</td>\n",
       "      <td>-0.147483</td>\n",
       "      <td>6.089214</td>\n",
       "    </tr>\n",
       "    <tr>\n",
       "      <th>2</th>\n",
       "      <td>-0.779483</td>\n",
       "      <td>-0.522495</td>\n",
       "      <td>-0.416345</td>\n",
       "      <td>-0.283529</td>\n",
       "      <td>-0.716134</td>\n",
       "      <td>-0.714550</td>\n",
       "      <td>0.989333</td>\n",
       "      <td>2.808039</td>\n",
       "      <td>-0.523998</td>\n",
       "      <td>-0.279161</td>\n",
       "      <td>...</td>\n",
       "      <td>-0.099613</td>\n",
       "      <td>-0.646496</td>\n",
       "      <td>4.010737</td>\n",
       "      <td>-0.385265</td>\n",
       "      <td>-0.252608</td>\n",
       "      <td>-0.130237</td>\n",
       "      <td>-0.203394</td>\n",
       "      <td>-0.197004</td>\n",
       "      <td>-0.147483</td>\n",
       "      <td>-0.164225</td>\n",
       "    </tr>\n",
       "    <tr>\n",
       "      <th>3</th>\n",
       "      <td>-0.779483</td>\n",
       "      <td>-0.522495</td>\n",
       "      <td>-0.416345</td>\n",
       "      <td>-0.283529</td>\n",
       "      <td>-0.378685</td>\n",
       "      <td>-0.640124</td>\n",
       "      <td>0.044704</td>\n",
       "      <td>-0.213029</td>\n",
       "      <td>-0.523998</td>\n",
       "      <td>-0.279161</td>\n",
       "      <td>...</td>\n",
       "      <td>-0.099613</td>\n",
       "      <td>1.546801</td>\n",
       "      <td>-0.249331</td>\n",
       "      <td>-0.385265</td>\n",
       "      <td>-0.252608</td>\n",
       "      <td>-0.130237</td>\n",
       "      <td>-0.203394</td>\n",
       "      <td>-0.197004</td>\n",
       "      <td>-0.147483</td>\n",
       "      <td>-0.164225</td>\n",
       "    </tr>\n",
       "    <tr>\n",
       "      <th>4</th>\n",
       "      <td>-0.779483</td>\n",
       "      <td>-0.522495</td>\n",
       "      <td>-0.416345</td>\n",
       "      <td>-0.283529</td>\n",
       "      <td>-0.735984</td>\n",
       "      <td>-0.715860</td>\n",
       "      <td>5.131169</td>\n",
       "      <td>4.378259</td>\n",
       "      <td>-0.523998</td>\n",
       "      <td>2.090495</td>\n",
       "      <td>...</td>\n",
       "      <td>-0.099613</td>\n",
       "      <td>-0.646496</td>\n",
       "      <td>-0.249331</td>\n",
       "      <td>2.595614</td>\n",
       "      <td>-0.252608</td>\n",
       "      <td>-0.130237</td>\n",
       "      <td>-0.203394</td>\n",
       "      <td>-0.197004</td>\n",
       "      <td>-0.147483</td>\n",
       "      <td>-0.164225</td>\n",
       "    </tr>\n",
       "  </tbody>\n",
       "</table>\n",
       "<p>5 rows × 74 columns</p>\n",
       "</div>"
      ],
      "text/plain": [
       "   administrative  administrative_duration  informational  \\\n",
       "0       -0.779483                -0.522495      -0.416345   \n",
       "1       -0.779483                -0.522495      -0.416345   \n",
       "2       -0.779483                -0.522495      -0.416345   \n",
       "3       -0.779483                -0.522495      -0.416345   \n",
       "4       -0.779483                -0.522495      -0.416345   \n",
       "\n",
       "   informational_duration  productrelated  productrelated_duration  \\\n",
       "0               -0.283529       -0.716134                -0.684429   \n",
       "1               -0.283529       -0.735984                -0.715860   \n",
       "2               -0.283529       -0.716134                -0.714550   \n",
       "3               -0.283529       -0.378685                -0.640124   \n",
       "4               -0.283529       -0.735984                -0.715860   \n",
       "\n",
       "   bouncerates  exitrates  pagevalues  specialday  ...  traffictype_20  \\\n",
       "0    -0.391279   1.761225   -0.523998   -0.279161  ...       -0.099613   \n",
       "1     5.131169   4.378259   -0.523998   -0.279161  ...       -0.099613   \n",
       "2     0.989333   2.808039   -0.523998   -0.279161  ...       -0.099613   \n",
       "3     0.044704  -0.213029   -0.523998   -0.279161  ...       -0.099613   \n",
       "4     5.131169   4.378259   -0.523998    2.090495  ...       -0.099613   \n",
       "\n",
       "   region_1  region_2  region_3  region_4  region_5  region_6  region_7  \\\n",
       "0  1.546801 -0.249331 -0.385265 -0.252608 -0.130237 -0.203394 -0.197004   \n",
       "1 -0.646496 -0.249331 -0.385265 -0.252608 -0.130237 -0.203394 -0.197004   \n",
       "2 -0.646496  4.010737 -0.385265 -0.252608 -0.130237 -0.203394 -0.197004   \n",
       "3  1.546801 -0.249331 -0.385265 -0.252608 -0.130237 -0.203394 -0.197004   \n",
       "4 -0.646496 -0.249331  2.595614 -0.252608 -0.130237 -0.203394 -0.197004   \n",
       "\n",
       "   region_8  region_9  \n",
       "0 -0.147483 -0.164225  \n",
       "1 -0.147483  6.089214  \n",
       "2 -0.147483 -0.164225  \n",
       "3 -0.147483 -0.164225  \n",
       "4 -0.147483 -0.164225  \n",
       "\n",
       "[5 rows x 74 columns]"
      ]
     },
     "execution_count": 406,
     "metadata": {},
     "output_type": "execute_result"
    }
   ],
   "source": [
    "from sklearn.preprocessing import StandardScaler\n",
    "\n",
    "znormalizer = StandardScaler()\n",
    "znormalizer.fit(X_train)\n",
    "X_train_norm = pd.DataFrame(znormalizer.transform(X_train),columns=list(X_train))\n",
    "X_test_norm = pd.DataFrame(znormalizer.transform(X_test),columns=list(X_train))\n",
    "\n",
    "X_train_norm.head()"
   ]
  },
  {
   "cell_type": "code",
   "execution_count": 407,
   "metadata": {},
   "outputs": [
    {
     "data": {
      "text/plain": [
       "(16488, 74)"
      ]
     },
     "execution_count": 407,
     "metadata": {},
     "output_type": "execute_result"
    }
   ],
   "source": [
    "X_train= X_train_norm # add columns\n",
    "X_test = X_test_norm  # add columns\n",
    "X_train.shape\n"
   ]
  },
  {
   "cell_type": "markdown",
   "metadata": {},
   "source": [
    "Before I begin traning with SVMs, since SVMs are very compute heavy and may require a lot of tuning. While I do all this in search of the best model, it's worthwhile having a **baseline** against which we can compare performance. So I first train a logistic regression model and evalutate it. We chose logistic regression because it is efficient and does a good job even without much tuning.Logistic regression is a good baseline model for classification because it has a very high run time and efficient and it is simple. "
   ]
  },
  {
   "cell_type": "code",
   "execution_count": 408,
   "metadata": {},
   "outputs": [],
   "source": [
    "from sklearn.linear_model import LogisticRegression\n",
    "\n",
    "logit = LogisticRegression(max_iter = 5000, solver = 'lbfgs')\n",
    "logit.fit(X_train, y_train)\n",
    "\n",
    "y_hat_train = logit.predict(X_train)\n",
    "y_hat_test = logit.predict(X_test)"
   ]
  },
  {
   "cell_type": "code",
   "execution_count": 409,
   "metadata": {},
   "outputs": [
    {
     "name": "stdout",
     "output_type": "stream",
     "text": [
      "              precision    recall  f1-score   support\n",
      "\n",
      "           0       0.90      0.97      0.93      2053\n",
      "           1       0.68      0.39      0.49       376\n",
      "\n",
      "    accuracy                           0.88      2429\n",
      "   macro avg       0.79      0.68      0.71      2429\n",
      "weighted avg       0.86      0.88      0.86      2429\n",
      "\n"
     ]
    }
   ],
   "source": [
    "print(classification_report(y_test, y_hat_test))"
   ]
  },
  {
   "cell_type": "code",
   "execution_count": 410,
   "metadata": {},
   "outputs": [
    {
     "data": {
      "image/png": "[encoded data removed]",
      "text/plain": [
       "<Figure size 432x288 with 1 Axes>"
      ]
     },
     "metadata": {},
     "output_type": "display_data"
    }
   ],
   "source": [
    "fpr, tpr, thresholds = metrics.roc_curve(y_test, y_hat_test)\n",
    "roc_auc = metrics.auc(fpr, tpr)\n",
    "roc_auc_svm, fpr_svm, tpr_svm, thresholds_svm = roc_auc, fpr, tpr, thresholds\n",
    "\n",
    "plt.title('Receiver Operating Characteristic')\n",
    "plt.plot(fpr, tpr, 'b', label = 'AUC = %0.2f' % roc_auc)\n",
    "plt.legend(loc = 'lower right')\n",
    "plt.plot([0, 1], [0, 1],'r--')\n",
    "plt.xlim([0, 1])\n",
    "plt.ylim([0, 1])\n",
    "plt.ylabel('True Positive Rate')\n",
    "plt.xlabel('False Positive Rate')\n",
    "plt.show()"
   ]
  },
  {
   "cell_type": "code",
   "execution_count": 412,
   "metadata": {},
   "outputs": [
    {
     "data": {
      "image/png": "[encoded data removed]",
      "text/plain": [
       "<Figure size 432x288 with 1 Axes>"
      ]
     },
     "metadata": {},
     "output_type": "display_data"
    }
   ],
   "source": [
    "# fpr, tpr, thresholds = metrics.roc_curve(y_test, y_hat_test)\n",
    "# roc_auc = metrics.auc(fpr, tpr)\n",
    "# roc_auc_svm = roc_auc\n",
    "\n",
    "plt.title('Receiver Operating Characteristic')\n",
    "plt.plot(fpr_lr, tpr_lr, 'b', label = 'AUC_lr = %0.2f' % roc_auc_lr)\n",
    "plt.plot(fpr_rf, tpr_rf, 'g', label = 'AUC_rf = %0.2f' % roc_auc_rf)\n",
    "plt.plot(fpr_gbm, tpr_gbm, 'brown', label = 'AUC_gbm = %0.2f' % roc_auc_gbm)\n",
    "plt.plot(fpr_svm, tpr_svm, 'purple', label = 'AUC_svm = %0.2f' % roc_auc_svm)\n",
    "plt.legend(loc = 'lower right')\n",
    "plt.plot([0, 1], [0, 1],'r--')\n",
    "plt.xlim([0, 1])\n",
    "plt.ylim([0, 1])\n",
    "plt.ylabel('True Positive Rate')\n",
    "plt.xlabel('False Positive Rate')\n",
    "plt.show()"
   ]
  },
  {
   "cell_type": "code",
   "execution_count": null,
   "metadata": {},
   "outputs": [],
   "source": []
  }
 ],
 "metadata": {
  "kernelspec": {
   "display_name": "Python 3",
   "language": "python",
   "name": "python3"
  },
  "language_info": {
   "codemirror_mode": {
    "name": "ipython",
    "version": 3
   },
   "file_extension": ".py",
   "mimetype": "text/x-python",
   "name": "python",
   "nbconvert_exporter": "python",
   "pygments_lexer": "ipython3",
   "version": "3.7.7"
  },
  "toc-autonumbering": true
 },
 "nbformat": 4,
 "nbformat_minor": 4
}
